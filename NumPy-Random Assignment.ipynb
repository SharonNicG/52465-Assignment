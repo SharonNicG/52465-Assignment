{
 "cells": [
  {
   "cell_type": "markdown",
   "metadata": {},
   "source": [
    "# NumPy Random \n",
    "> Assignment for Module 52465 Programming for Data Analysis\n",
    "\n",
    "---\n",
    "## Table of Contents\n",
    "\n",
    "- [Introduction]\n",
    "- [NumPy]\n",
    "- [Installing NumPy]\n",
    "- [numpy.random]\n",
    " - [Simple Random Data]\n",
    "     - [rand]\n",
    "     - [randint]\n",
    "     - [choice]\n",
    " - [Permutations]\n",
    "     - [shuffle()]\n",
    "     - [permutation()]\n",
    " - [Distributions]\n",
    "  - [Binomial Distribution]\n",
    "\n",
    "---\n",
    "### Introduction\n",
    "\n",
    "This project sets out to examine the `numpy.random` package and some of it's distributions, through a review of documentation on the package and an analysis of data sets using it's operations. \n",
    "\n",
    "---\n",
    "### NumPy\n",
    "![image.png](https://scikit-learn.org/stable/_static/ml_map.png\n",
    "\n",
    "NumPy, short for Numerical Python, is a principal library in Python. Created in 2005, by Travis Oliphant, this open-source software is used for mathimatical, scientific, engineering and data science programming. \n",
    "\n",
    "The NumPy library provides tools to work efficiently and effectively with large quantities of numerical data.\n",
    "To work with a collection of elements (an array) in Python we use lists. Lists are effective when working with varying types and small amounts of data but how Python stores lists is slow and resources heavy.\n",
    "\n",
    "A Python list is an array of signposts pointing to a location that has information about an element. This can be sufficient when working with smaller quantities or varying types of data but is a slow and resource heavy process for larger or complex work.\n",
    "\n",
    "#### Why use NumPy over Python Lists?\n",
    "NumPy’s ndarrays are homogenous (of a single type) n-dimensional (vectorised) array objects that are stored in one continuous place they can be accessed, processed and manipulated much more efficiently. Additionally, the NumPy library provides powerful multidimensional array and matrix data structures and a large collection of high-level mathematical functions to operate on them. \n",
    "\n",
    "The NumPy library also offers classes and functions to test linear algebra operations, Fourier series and random number generation. The library is used extensively when working with numerical data in Python and other Python libraries such as Pandas, Matplotlib and SciPy are built on it. \n",
    "\n",
    "## Installing NumPy\n",
    "\n",
    "The only prerequisite for NumPy is Python. Installation of the Anaconda Distribution is an easy way to obtain this as it includes Python, NumPy, and other commonly used packages. Full details of which are available here: https://docs.anaconda.com/anaconda/install/\n",
    "\n",
    "NumPy can also be installed with conda, with pip, or with a package manager on macOS and Linux. \n",
    "\n",
    "#### Installing with conda\n",
    "If you use `conda` you can install it with\n",
    "`conda install numpy`\n",
    "\n",
    "#### Installing via Pip\n",
    "If you use `pip` you can install with \n",
    "`pip install numpy`\n",
    "\n",
    "#### Install System-wide via a Package Manager\n",
    "The NumPy documentation offers detailed guides on how to install NumPy for Linux and Mac users.\n",
    "This information is available here: \n",
    "https://numpy.org/install/\n",
    "\n",
    "#### Import of NumPy Library"
   ]
  },
  {
   "cell_type": "code",
   "execution_count": 1,
   "metadata": {},
   "outputs": [],
   "source": [
    "# This imports the libraries (NumPy and MatPlotLib) that will be used in this notebook\n",
    "import numpy as np\n",
    "import matplotlib.pyplot as plt\n",
    "import seaborn as sns\n",
    "%matplotlib inline"
   ]
  },
  {
   "cell_type": "markdown",
   "metadata": {},
   "source": [
    "### numpy.random\n",
    "Random numbers (numbers that cannot be logically predicted) have many uses such as the generation of encryption keys, to prevent selection bias in experimentation and the simulation of complex models and studies.\n",
    "\n",
    "To generate a truly random number a source of true randomness is needed. Often this is a physical input like a key stroke, or a mouse click. In programming algorithms are used to generate random numbers. Algorithms adhere to a set of rules to generate random numbers. While these numbers appear close to truly random numbers they are generated through a deterministic process (where all the data required to determine the outcome is known in advance) making them pseudorandom. \n",
    "\n",
    "The standard Python library offers a module random that includes functions to generate random numbers with a few basic distributions. In contrast to this the NumPy library offers the `numpy.random` module which allows for the generation of arrays of random numbers, using a wide selection of distributions and across different intervals.\n",
    "\n",
    "NumPy’s random sampling routines can be classified in four ways\n",
    "- Simple Random Data\n",
    "- Permutations\n",
    "- Distributions\n",
    "- Random Generator \n",
    "\n",
    "#### Simple Random Data\n",
    "NumPy’s Simple Random Data Routines produce randomly generated numbers as defined by the user.\n",
    "\n",
    "This could be generating a single random integer using the `randint()`function:"
   ]
  },
  {
   "cell_type": "code",
   "execution_count": 3,
   "metadata": {},
   "outputs": [
    {
     "name": "stdout",
     "output_type": "stream",
     "text": [
      "75\n"
     ]
    }
   ],
   "source": [
    "x = np.random.randint(100) # Here we set the range of values for the integer to be selected from. \n",
    "\n",
    "print(x)"
   ]
  },
  {
   "cell_type": "markdown",
   "metadata": {},
   "source": [
    "This can be tested by re-running the above code or by changing the range of values to generate the random integar from:"
   ]
  },
  {
   "cell_type": "code",
   "execution_count": 12,
   "metadata": {},
   "outputs": [
    {
     "name": "stdout",
     "output_type": "stream",
     "text": [
      "886\n"
     ]
    }
   ],
   "source": [
    "x = np.random.randint(1000) # Here we set the range of values for the integer to be selected from. \n",
    "\n",
    "print(x)"
   ]
  },
  {
   "cell_type": "markdown",
   "metadata": {},
   "source": [
    "Or used to generate a random float using `rand()`"
   ]
  },
  {
   "cell_type": "code",
   "execution_count": 13,
   "metadata": {},
   "outputs": [
    {
     "name": "stdout",
     "output_type": "stream",
     "text": [
      "[0.20184672 0.34224609 0.22827787 0.24597548 0.47154685]\n"
     ]
    }
   ],
   "source": [
    "x = np.random.rand(5) # Here we set the number of float values to be returned as 5.\n",
    "                        # As no range of values is set the module will return float values between 0.0 and 1.0 \n",
    "                        #  but not including 1.0\n",
    "                        \n",
    "print (x)"
   ]
  },
  {
   "cell_type": "markdown",
   "metadata": {},
   "source": [
    "The `randint()` function can also take the input of 2 integers as a range of values and returns an output of a random integer value within the range provided."
   ]
  },
  {
   "cell_type": "code",
   "execution_count": 15,
   "metadata": {},
   "outputs": [
    {
     "name": "stdout",
     "output_type": "stream",
     "text": [
      "Random number between 0 and 10 is 8\n"
     ]
    }
   ],
   "source": [
    "Random_1 = np.random.randint(0, 10)  # Here we set the range of values for the integer to be selected from.\n",
    "\n",
    "print(\"Random number between 0 and 10 is % s\" % (Random_1))"
   ]
  },
  {
   "cell_type": "markdown",
   "metadata": {},
   "source": [
    "The `randint()` function can also take the input of 2 integers as a range of values and returns an output of a random integer value within the range provided:"
   ]
  },
  {
   "cell_type": "code",
   "execution_count": 14,
   "metadata": {},
   "outputs": [
    {
     "name": "stdout",
     "output_type": "stream",
     "text": [
      "Random number between 0 and 10 is 1\n"
     ]
    }
   ],
   "source": [
    "Random_2 = np.random.randint(0, 10)  # Here we set the range of values for the integer to be selected from.\n",
    "\n",
    "print(\"Random number between 0 and 10 is % s\" % (Random_2))"
   ]
  },
  {
   "cell_type": "markdown",
   "metadata": {},
   "source": [
    "Whether they are poistive or negative:"
   ]
  },
  {
   "cell_type": "code",
   "execution_count": 16,
   "metadata": {},
   "outputs": [
    {
     "name": "stdout",
     "output_type": "stream",
     "text": [
      "Random number between -10 and -1 is -3\n"
     ]
    }
   ],
   "source": [
    "Random_3 = np.random.randint(-100, -10)  # Here we set a negative range of values for the integer to be selected from.\n",
    "\n",
    "print(\"Random number between -100 and -10 is % s\" % (Random_3))"
   ]
  },
  {
   "cell_type": "markdown",
   "metadata": {},
   "source": [
    "Characters/String can't be used as parameters in the `randint()` function:"
   ]
  },
  {
   "cell_type": "code",
   "execution_count": 8,
   "metadata": {},
   "outputs": [
    {
     "ename": "NameError",
     "evalue": "name 'a' is not defined",
     "output_type": "error",
     "traceback": [
      "\u001b[1;31m---------------------------------------------------------------------------\u001b[0m",
      "\u001b[1;31mNameError\u001b[0m                                 Traceback (most recent call last)",
      "\u001b[1;32m<ipython-input-8-e4c16973c3de>\u001b[0m in \u001b[0;36m<module>\u001b[1;34m\u001b[0m\n\u001b[1;32m----> 1\u001b[1;33m \u001b[0mRandom_4\u001b[0m \u001b[1;33m=\u001b[0m \u001b[0mnp\u001b[0m\u001b[1;33m.\u001b[0m\u001b[0mrandom\u001b[0m\u001b[1;33m.\u001b[0m\u001b[0mrandint\u001b[0m\u001b[1;33m(\u001b[0m\u001b[0ma\u001b[0m\u001b[1;33m,\u001b[0m \u001b[0mz\u001b[0m\u001b[1;33m)\u001b[0m\u001b[1;33m\u001b[0m\u001b[1;33m\u001b[0m\u001b[0m\n\u001b[0m\u001b[0;32m      2\u001b[0m \u001b[0mprint\u001b[0m\u001b[1;33m(\u001b[0m\u001b[1;34m\"Random letter between a and z is % s\"\u001b[0m \u001b[1;33m%\u001b[0m \u001b[1;33m(\u001b[0m\u001b[0mRandom_4\u001b[0m\u001b[1;33m)\u001b[0m\u001b[1;33m)\u001b[0m\u001b[1;33m\u001b[0m\u001b[1;33m\u001b[0m\u001b[0m\n",
      "\u001b[1;31mNameError\u001b[0m: name 'a' is not defined"
     ]
    }
   ],
   "source": [
    "Random_4 = np.random.randint(a, z) \n",
    "print(\"Random letter between a and z is % s\" % (Random_4)) "
   ]
  },
  {
   "cell_type": "markdown",
   "metadata": {},
   "source": [
    "Neither can floating point values:"
   ]
  },
  {
   "cell_type": "code",
   "execution_count": 24,
   "metadata": {},
   "outputs": [
    {
     "ename": "ValueError",
     "evalue": "low >= high",
     "output_type": "error",
     "traceback": [
      "\u001b[1;31m---------------------------------------------------------------------------\u001b[0m",
      "\u001b[1;31mValueError\u001b[0m                                Traceback (most recent call last)",
      "\u001b[1;32m<ipython-input-24-eb45cdcc49fc>\u001b[0m in \u001b[0;36m<module>\u001b[1;34m\u001b[0m\n\u001b[1;32m----> 1\u001b[1;33m \u001b[0mRandom_5\u001b[0m \u001b[1;33m=\u001b[0m \u001b[0mnp\u001b[0m\u001b[1;33m.\u001b[0m\u001b[0mrandom\u001b[0m\u001b[1;33m.\u001b[0m\u001b[0mrandint\u001b[0m\u001b[1;33m(\u001b[0m\u001b[1;36m1.32\u001b[0m\u001b[1;33m,\u001b[0m \u001b[1;36m1.40\u001b[0m\u001b[1;33m)\u001b[0m\u001b[1;33m\u001b[0m\u001b[1;33m\u001b[0m\u001b[0m\n\u001b[0m\u001b[0;32m      2\u001b[0m \u001b[0mprint\u001b[0m\u001b[1;33m(\u001b[0m\u001b[1;34m\"Random letter between 1.32 and 1.40 is % s\"\u001b[0m \u001b[1;33m%\u001b[0m \u001b[1;33m(\u001b[0m\u001b[0mRandom_5\u001b[0m\u001b[1;33m)\u001b[0m\u001b[1;33m)\u001b[0m\u001b[1;33m\u001b[0m\u001b[1;33m\u001b[0m\u001b[0m\n",
      "\u001b[1;32mmtrand.pyx\u001b[0m in \u001b[0;36mnumpy.random.mtrand.RandomState.randint\u001b[1;34m()\u001b[0m\n",
      "\u001b[1;32m_bounded_integers.pyx\u001b[0m in \u001b[0;36mnumpy.random._bounded_integers._rand_int32\u001b[1;34m()\u001b[0m\n",
      "\u001b[1;31mValueError\u001b[0m: low >= high"
     ]
    }
   ],
   "source": [
    "Random_5 = np.random.randint(1.32, 1.40) \n",
    "print(\"Random letter between 1.32 and 1.40 is % s\" % (Random_5)) "
   ]
  },
  {
   "cell_type": "markdown",
   "metadata": {},
   "source": [
    "Having established that `randint()` can generate single random integers and floats let’s use this information to look at arrays.\n",
    "\n",
    "By including a `size` parameter in the `randint()` function the size of the array can be specified.\n",
    "This could be a 1-dimensional array:"
   ]
  },
  {
   "cell_type": "code",
   "execution_count": 12,
   "metadata": {},
   "outputs": [
    {
     "name": "stdout",
     "output_type": "stream",
     "text": [
      "Here are the random integars you have requested [60 19 88 58 60]\n"
     ]
    }
   ],
   "source": [
    "Random_6 = np.random.randint(100, size=(5)) # Here we are requesting 5 random integers between 0 and 100\n",
    "\n",
    "print(\"Here are the random integars you have requested % s\" % (Random_6))"
   ]
  },
  {
   "cell_type": "markdown",
   "metadata": {},
   "source": [
    "Or multidimensional array:"
   ]
  },
  {
   "cell_type": "code",
   "execution_count": 9,
   "metadata": {},
   "outputs": [
    {
     "name": "stdout",
     "output_type": "stream",
     "text": [
      "[[34  8 83 27 25 69 52 28 43 20]\n",
      " [48 59 92 40 95 19  0 82 51 54]\n",
      " [23 72 96  6 39 40 90 31 72  3]\n",
      " [28 32 52 35 90 34 40 52 17  5]]\n"
     ]
    }
   ],
   "source": [
    "Random_7 = np.random.randint(100, size=(4, 10)) # Here we are requesting random integers between 0 and 100\n",
    "                                                # To be presented in 4 rows each containing 10 integers\n",
    "\n",
    "print (Random_7)"
   ]
  },
  {
   "cell_type": "markdown",
   "metadata": {},
   "source": [
    "The `rand` function allows for the creation of arrays using floats.\n",
    "Similarly, to the `randint` function the inclusion of a size parameter determines the shape of the array.\n",
    "Again this can be an 1-dimensional array:"
   ]
  },
  {
   "cell_type": "code",
   "execution_count": 10,
   "metadata": {},
   "outputs": [
    {
     "name": "stdout",
     "output_type": "stream",
     "text": [
      "Here are the random floats you have requested [0.71755568 0.75126991 0.37611699 0.2644914  0.89563404]\n"
     ]
    }
   ],
   "source": [
    "Random_8 = np.random.rand(5)\n",
    "\n",
    "print(\"Here are the random floats you have requested % s\" % (Random_8))"
   ]
  },
  {
   "cell_type": "markdown",
   "metadata": {},
   "source": [
    "Or a multidimensional array:"
   ]
  },
  {
   "cell_type": "code",
   "execution_count": 16,
   "metadata": {},
   "outputs": [
    {
     "name": "stdout",
     "output_type": "stream",
     "text": [
      "Here are the random floats you have requested [0.20933916 0.54152208 0.06934608 0.22846674 0.57009601]\n"
     ]
    }
   ],
   "source": [
    "Random_9 = np.random.rand(5)\n",
    "\n",
    "print(\"Here are the random floats you have requested % s\" % (Random_9))"
   ]
  },
  {
   "cell_type": "markdown",
   "metadata": {},
   "source": [
    "Where `rand` and `randint` can generate arrays from a range of specified values `choice` can generate an array from an array.\n",
    "\n",
    "`choice` can return a single random value from the provided array:"
   ]
  },
  {
   "cell_type": "code",
   "execution_count": 4,
   "metadata": {},
   "outputs": [
    {
     "name": "stdout",
     "output_type": "stream",
     "text": [
      "The randomly selected value from the array provided is: 7\n"
     ]
    }
   ],
   "source": [
    "Choice_1 = np.random.choice([5, 6, 7, 8]) # Here we are requesting that one of the presented values\n",
    "                                            # from the provided array is randomly selected to be returned.\n",
    "\n",
    "print(\"The randomly selected value from the array provided is: % s\" % (Choice_1))"
   ]
  },
  {
   "cell_type": "markdown",
   "metadata": {},
   "source": [
    "Or generate a multi-dimensional array consisting of the values from within the array provided:"
   ]
  },
  {
   "cell_type": "code",
   "execution_count": 11,
   "metadata": {},
   "outputs": [
    {
     "name": "stdout",
     "output_type": "stream",
     "text": [
      "[[6 6 5 8]\n",
      " [5 5 8 6]]\n"
     ]
    }
   ],
   "source": [
    "Choice_2 = np.random.choice([5, 6, 7, 8], size=(2, 4)) # Here we are requesting the return of an array\n",
    "                                                        # with the size and shape we have defined\n",
    "                                                            # from the provided array\n",
    "\n",
    "print (Choice_2)"
   ]
  },
  {
   "cell_type": "markdown",
   "metadata": {},
   "source": [
    "Other functions:\n",
    "\n",
    "- randn (Return a sample (or samples) from the “standard normal” distribution)\n",
    "- random_integers (Random integers of type np.int between low and high, inclusive)\n",
    "- random_sample (returns a random floating number within the range 0 to 1)\n",
    "- sample (Return random floats in the half-open interval 0.0, 1.0)\n",
    "- random (Return random floats in the half-open interval 0.0, 1.0)\n",
    "- ranf (Return random floats in the half-open interval 0.0, 1.0)\n",
    "- bytes (returns a defined number of random bytes)"
   ]
  },
  {
   "cell_type": "markdown",
   "metadata": {},
   "source": [
    "### Permutations\n",
    "\n",
    "A permutation is an arrangement of elements in an order (linear or sequential) or the re-arrangement of an ordered set of elements. NumPy offers 2 permuations `shuffle()` and `permuattion()`.\n",
    "\n",
    "#### Shuffle\n",
    "`shuffle()` takes a given set of elements and re-arranges the order in which they are presented. Though it change sthe order the elements are presneted in it does not create a new list of elements."
   ]
  },
  {
   "cell_type": "code",
   "execution_count": 11,
   "metadata": {},
   "outputs": [
    {
     "name": "stdout",
     "output_type": "stream",
     "text": [
      "Here is the array you requested: [0 1 2 3 4 5 6 7 8 9]\n"
     ]
    }
   ],
   "source": [
    "Array_1 = np.arange(10) # This creates a 1-dimensional arrany of integers up to the value of 10\n",
    "                            # for shuffle() to work with\n",
    "print (\"Here is the array you requested: % s\" % (Array_1))"
   ]
  },
  {
   "cell_type": "code",
   "execution_count": 12,
   "metadata": {},
   "outputs": [
    {
     "name": "stdout",
     "output_type": "stream",
     "text": [
      "Here is your shuffled array: [8 5 2 4 6 1 7 9 3 0]\n"
     ]
    }
   ],
   "source": [
    "np.random.shuffle(Array_1) # Here we identify the array to be shuffled.\n",
    "print (\"Here is your shuffled array: % s\" % (Array_1))"
   ]
  },
  {
   "cell_type": "markdown",
   "metadata": {},
   "source": [
    "We can see that `shuffle()` has reordered the elements in the given array.\n",
    "\n",
    "For multidimensional arrays `shuffle()` only rearranges the given elements along the first axis:"
   ]
  },
  {
   "cell_type": "code",
   "execution_count": 22,
   "metadata": {},
   "outputs": [
    {
     "name": "stdout",
     "output_type": "stream",
     "text": [
      "[[ 0  1  2  3  4]\n",
      " [ 5  6  7  8  9]\n",
      " [10 11 12 13 14]]\n"
     ]
    }
   ],
   "source": [
    "Array_2 = np.arange(15).reshape(3,5) # This creates a multidimensional array with 3 rows\n",
    "                                        # each containing integers up to the value of 15\n",
    "                                        # for shuffle() to work with\n",
    "print (Array_2)"
   ]
  },
  {
   "cell_type": "code",
   "execution_count": 23,
   "metadata": {},
   "outputs": [
    {
     "name": "stdout",
     "output_type": "stream",
     "text": [
      "[[ 0  1  2  3  4]\n",
      " [ 5  6  7  8  9]\n",
      " [10 11 12 13 14]]\n"
     ]
    }
   ],
   "source": [
    "np.random.shuffle(Array_2) # Here we identify the array to be shuffled\n",
    "print (Array_2)"
   ]
  },
  {
   "cell_type": "markdown",
   "metadata": {},
   "source": [
    "We can see that the order of the rows of elements have changed (the first axis) but the order of the elements within the rows remains the same."
   ]
  },
  {
   "cell_type": "markdown",
   "metadata": {},
   "source": [
    "#### Permutation\n",
    "\n",
    "The second style of permutation NumPy offers is `permutation()`.\n",
    "\n",
    "`permuation()` differs from `shuffle()` in two ways:\n",
    "1. Where `shuffle()` shuffles the array in place (effectively overwriting the original array) `permutation()` makes a copy of the array and returns a re-arranged array (leaving the original intact)."
   ]
  },
  {
   "cell_type": "code",
   "execution_count": 14,
   "metadata": {},
   "outputs": [
    {
     "name": "stdout",
     "output_type": "stream",
     "text": [
      "Here is the array you requested: [0 1 2 3 4 5 6 7 8 9]\n"
     ]
    }
   ],
   "source": [
    "Array_4 = np.arange(10) # This creates a 1-dimensional arrany of integers up to the value of 10\n",
    "                            # for shuffle() to work with\n",
    "print (\"Here is the array you requested: % s\" % (Array_4))"
   ]
  },
  {
   "cell_type": "code",
   "execution_count": 20,
   "metadata": {},
   "outputs": [
    {
     "name": "stdout",
     "output_type": "stream",
     "text": [
      "Here is your permutated array: [7 9 5 2 1 3 0 4 6 8]\n"
     ]
    }
   ],
   "source": [
    "print(\"Here is your permutated array: % s\" % np.random.permutation(Array_4)) # Here we identify the array for permutation() to work on"
   ]
  },
  {
   "cell_type": "code",
   "execution_count": 22,
   "metadata": {},
   "outputs": [
    {
     "name": "stdout",
     "output_type": "stream",
     "text": [
      "Here is your original array: [0 1 2 3 4 5 6 7 8 9]\n"
     ]
    }
   ],
   "source": [
    "print (\"Here is your original array: % s\" % (Array_4)) # Here we call the original array again to see if it remains the same"
   ]
  },
  {
   "cell_type": "markdown",
   "metadata": {},
   "source": [
    "We can see that the original array remains intact and that `permutation()` created a copy to work on and return.\n",
    "\n",
    "2. If an integer is passed to the `permutation()` function it will return a shuffled range up to, but not including the given integer"
   ]
  },
  {
   "cell_type": "code",
   "execution_count": 11,
   "metadata": {},
   "outputs": [
    {
     "name": "stdout",
     "output_type": "stream",
     "text": [
      "Here is the array you requested: [4 9 5 1 8 2 3 0 6 7]\n"
     ]
    }
   ],
   "source": [
    "Array_4 = np.random.permutation(10) # This creates a shuffled range\n",
    "                                    # up to but not including the integer provided\n",
    "print (\"Here is the array you requested: % s\" % (Array_4))"
   ]
  },
  {
   "cell_type": "code",
   "execution_count": 4,
   "metadata": {},
   "outputs": [
    {
     "name": "stdout",
     "output_type": "stream",
     "text": [
      "[[ 0  1  2  3  4]\n",
      " [ 5  6  7  8  9]\n",
      " [10 11 12 13 14]]\n"
     ]
    }
   ],
   "source": [
    "Array_5 = np.arange(15).reshape(3,5) # This creates a multidimensional array with 3 rows\n",
    "                                        # each containing integers up to the value of 15\n",
    "                                        # for permutation() to work with\n",
    "print (Array_5)"
   ]
  },
  {
   "cell_type": "code",
   "execution_count": 6,
   "metadata": {},
   "outputs": [
    {
     "data": {
      "text/plain": [
       "array([[ 5,  6,  7,  8,  9],\n",
       "       [10, 11, 12, 13, 14],\n",
       "       [ 0,  1,  2,  3,  4]])"
      ]
     },
     "execution_count": 6,
     "metadata": {},
     "output_type": "execute_result"
    }
   ],
   "source": [
    "np.random.permutation(Array_5) # Here we identify the array for permutation() to work on"
   ]
  },
  {
   "cell_type": "markdown",
   "metadata": {},
   "source": [
    "We can see that as with `shuffle()`, `permutation()` only permuates multidimensional arrays along teh first axis.\n",
    "And again we can clal the original array to see that it is in tact."
   ]
  },
  {
   "cell_type": "code",
   "execution_count": 8,
   "metadata": {},
   "outputs": [
    {
     "name": "stdout",
     "output_type": "stream",
     "text": [
      "[[ 0  1  2  3  4]\n",
      " [ 5  6  7  8  9]\n",
      " [10 11 12 13 14]]\n"
     ]
    }
   ],
   "source": [
    "print (Array_5) # Here we call the original array again to see if it remains the same"
   ]
  },
  {
   "cell_type": "markdown",
   "metadata": {},
   "source": [
    "To see the distribution of the the `permutation()` function we can plot a histogram"
   ]
  },
  {
   "cell_type": "code",
   "execution_count": 15,
   "metadata": {},
   "outputs": [
    {
     "name": "stdout",
     "output_type": "stream",
     "text": [
      "[ 199 2725 2101 ... 5334 6316 6417]\n"
     ]
    },
    {
     "data": {
      "image/png": "[encoded data removed]",
      "text/plain": [
       "<Figure size 432x288 with 1 Axes>"
      ]
     },
     "metadata": {
      "needs_background": "light"
     },
     "output_type": "display_data"
    }
   ],
   "source": [
    "Array_6 = np.random.permutation(10000)\n",
    "print (Array_6)\n",
    "\n",
    "count, bins, ignored = plt.hist(Array_6, 14, density = True) \n",
    "plt.show()"
   ]
  },
  {
   "cell_type": "markdown",
   "metadata": {},
   "source": [
    "### Distributions\n",
    "\n",
    "A probability distribution is a mathimathical function that demonstrated the probabilty of a different outcome occuring.\n",
    "Probability functions are important for data analysis as they help us to understand how data is distribed within the defined range provided. Visualising the output of a distribution function is a helpful way of identifying the probability distribution at play."
   ]
  },
  {
   "cell_type": "markdown",
   "metadata": {},
   "source": [
    "#### Binomial Distribution\n",
    "\n",
    "Binomial distribution describes the outcome of discrete or binary events. That is events with only two possible outcomes. \n",
    "For example, success or failure or heads or tails. \n",
    "\n",
    "The distribution summarises the likelihood of each outcome occuring within a given set of parameters. \n",
    "\n",
    "`np.random.binomial(n, p[, size])`\n",
    "\n",
    "* `n` - The number of trials\n",
    " * Integers, array-like integers and floats are accepted for `n`. Though floats are truncated to integers\n",
    "* `p` - The probability of success for each trial\n",
    " * Floats and array-like floats are accepted for `p`\n",
    "* `size` - The size of the returned array\n",
    " * The `size` parameter is optional. It acceots integers and tuples of integers"
   ]
  },
  {
   "cell_type": "code",
   "execution_count": 4,
   "metadata": {},
   "outputs": [
    {
     "data": {
      "text/plain": [
       "array([5, 5, 7, ..., 7, 5, 5])"
      ]
     },
     "execution_count": 4,
     "metadata": {},
     "output_type": "execute_result"
    }
   ],
   "source": [
    "Bino_1 = np.random.binomial(10, 0.5, 10000) # Here we are looking for a binomial distribution \n",
    "                                            # with 10 trials and probability 0.5 each trial. \n",
    "Bino_1"
   ]
  },
  {
   "cell_type": "code",
   "execution_count": 14,
   "metadata": {},
   "outputs": [
    {
     "data": {
      "image/png": "[encoded data removed]",
      "text/plain": [
       "<Figure size 432x288 with 1 Axes>"
      ]
     },
     "metadata": {
      "needs_background": "light"
     },
     "output_type": "display_data"
    }
   ],
   "source": [
    "sns.distplot(np.random.binomial(n=10, p=0.5, size=10000), hist=True, kde=False)\n",
    "plt.show()"
   ]
  },
  {
   "cell_type": "markdown",
   "metadata": {},
   "source": [
    "The binomial distribution above appears to be similar to a normal distribution (a continuous distribution that shows greater frequency at the mean and less frequency further form the mean - often referred to as a bell curve). However, where normal distribution is continuous binomial distribution is discrete/binary. This is blurred by the above visualisation.\n",
    "\n",
    "If we scale this down the difference is more pronounced."
   ]
  },
  {
   "cell_type": "code",
   "execution_count": 9,
   "metadata": {},
   "outputs": [
    {
     "data": {
      "image/png": "[encoded data removed]",
      "text/plain": [
       "<Figure size 432x288 with 1 Axes>"
      ]
     },
     "metadata": {
      "needs_background": "light"
     },
     "output_type": "display_data"
    }
   ],
   "source": [
    "sns.distplot(np.random.binomial(n=10, p=0.5, size=100), hist=True, kde=False)\n",
    " # Here we are looking for a binomial distribution with 10 trials and probability 0.5 each trial.\n",
    "plt.show()"
   ]
  },
  {
   "cell_type": "markdown",
   "metadata": {},
   "source": [
    "It is worth nothing that while the probability of success and failure is same for all trials the probability of each outcome does not need to be equally likely. In Binomial distributions each trial is independant. As such, the outcome of previous trials does not influence the outcome of the current trial. "
   ]
  },
  {
   "cell_type": "code",
   "execution_count": 11,
   "metadata": {},
   "outputs": [
    {
     "data": {
      "image/png": "[encoded data removed]",
      "text/plain": [
       "<Figure size 432x288 with 1 Axes>"
      ]
     },
     "metadata": {
      "needs_background": "light"
     },
     "output_type": "display_data"
    }
   ],
   "source": [
    "Bino_2 = np.random.binomial(100, .25, 100)# A binomial distribution with 10 trials and probability 0.25 for each trial.\n",
    "Bino_3 = np.random.binomial(100, .5, 100) # A binomial distribution with 10 trials and probability 0.5 for each trial.\n",
    "Bino_4 = np.random.binomial(100, .99, 100) # A binomial distribution with 10 trials and probability 0.99 for each trial.\n",
    "\n",
    "plt.hist(Bino_2, histtype='stepfilled', alpha=0.7, label='Probability: 25%')\n",
    "plt.hist(Bino_3, histtype='stepfilled', alpha=0.7, label='Probability: 50%')\n",
    "plt.hist(Bino_4, histtype='stepfilled', alpha=0.7, label='Probability: 90%')\n",
    "\n",
    "plt.legend(loc='best')\n",
    "plt.show()"
   ]
  },
  {
   "cell_type": "markdown",
   "metadata": {},
   "source": [
    "#### Poisson Distribution\n",
    "\n",
    "Simialrly to Binomial Distributions, the Poisson Distrubtion is a discrte distribution.\n",
    "\n",
    "It examines the probability of an event occuring, be that at all or how often, within a given period of time. \n",
    "The event can happen at any point of time or space within the defined period but the distribution only models the number of occurances.\n",
    "\n",
    "Poisson distributions are characterised by certain assumptions\n",
    "- There is no limit to the number of times an event can occur, within the defined period\n",
    "- Each event is independant of the other events (simialar to trials in Binomial Distribitions)\n",
    "- Events cannot occur simultaneously\n",
    "- The rate of event occurance is, by in large, constant. Though this may vary depending on the length of teh defined period.\n",
    "\n",
    "Poission Distributions have 2 parameters\n",
    "\n",
    "`np.random.poisson(lam= , size= )`\n",
    "* `lam`- The rate or the numbe rof known occurances of an event within a given period of time\n",
    "* `size`- The size of the returned array"
   ]
  },
  {
   "cell_type": "code",
   "execution_count": 10,
   "metadata": {},
   "outputs": [
    {
     "name": "stdout",
     "output_type": "stream",
     "text": [
      "[7 5 7 1 3 0 1 2 2 2 3 3 8 4 4 3 5 2 2 1 6 3 4 1 5 1 2 4 5 0 5 5 3 2 5 2 3\n",
      " 3 4 4 4 2 2 2 4 3 4 2 3 1 2 3 3 1 1 3 2 4 4 4 4 3 2 4 2 3 1 3 0 4 2 2 4 2\n",
      " 5 4 0 1 3 3 7 3 3 4 2 1 1 6 4 4 1 3 4 2 4 1 3 5 6 3]\n"
     ]
    }
   ],
   "source": [
    "Pois_1 = np.random.poisson(3, 100) # Here we are looking for the number of times an event will occur at a rate of 3 per unit of time\n",
    "                                    # in 100 instances\n",
    "print (Pois_1)"
   ]
  },
  {
   "cell_type": "code",
   "execution_count": 9,
   "metadata": {},
   "outputs": [
    {
     "data": {
      "image/png": "[encoded data removed]",
      "text/plain": [
       "<Figure size 432x288 with 1 Axes>"
      ]
     },
     "metadata": {
      "needs_background": "light"
     },
     "output_type": "display_data"
    }
   ],
   "source": [
    "sns.distplot(np.random.poisson(3, 10000), hist=True, kde=False)\n",
    "# Here we are looking to visualise the probabale number of times an event will occur in 1000 instances\n",
    "# at a rate of 3 occurances per unit of time                    \n",
    "plt.show()"
   ]
  },
  {
   "cell_type": "markdown",
   "metadata": {},
   "source": [
    "We can see that the probability peaks at 3"
   ]
  },
  {
   "cell_type": "code",
   "execution_count": null,
   "metadata": {},
   "outputs": [],
   "source": []
  }
 ],
 "metadata": {
  "kernelspec": {
   "display_name": "Python 3",
   "language": "python",
   "name": "python3"
  },
  "language_info": {
   "codemirror_mode": {
    "name": "ipython",
    "version": 3
   },
   "file_extension": ".py",
   "mimetype": "text/x-python",
   "name": "python",
   "nbconvert_exporter": "python",
   "pygments_lexer": "ipython3",
   "version": "3.8.3"
  }
 },
 "nbformat": 4,
 "nbformat_minor": 4
}
