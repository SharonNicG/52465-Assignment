{
 "cells": [
  {
   "cell_type": "markdown",
   "metadata": {},
   "source": [
    "# NumPy Random \n",
    "> Assignment for Module 52465 Programming for Data Analysis\n",
    "\n",
    "---\n",
    "## Table of Contents\n",
    "\n",
    "- [Introduction]\n",
    "- [NumPy]\n",
    "- [Installing NumPy]\n",
    "- [numpy.random]\n",
    "\n",
    "\n",
    "---\n",
    "### Introduction\n",
    "\n",
    "This project sets out to examine the `numpy.random` package and some of it's distributions, through a review of documentation on the package and an analysis of data sets using it's operations. \n",
    "\n",
    "---\n",
    "### NumPy\n",
    "![image.png](https://scikit-learn.org/stable/_static/ml_map.png\n",
    "\n",
    "NumPy, short for Numerical Python, is a principal library in Python. Created in 2005, by Travis Oliphant, this open-source software is used for mathimatical, scientific, engineering and data science programming. \n",
    "\n",
    "The NumPy library provides tools to work efficiently and effectively with large quantities of numerical data.\n",
    "To work with a collection of elements (an array) in Python we use lists. Lists are effective when working with varying types and small amounts of data but how Python stores lists is slow and resources heavy.\n",
    "\n",
    "A Python list is an array of signposts pointing to a location that has information about an element. This can be sufficient when working with smaller quantities or varying types of data but is a slow and resource heavy process for larger or complex work.\n",
    "\n",
    "#### Why use NumPy over Python Lists?\n",
    "NumPy’s ndarrays are homogenous (of a single type) n-dimensional (vectorised) array objects that are stored in one continuous place they can be accessed, processed and manipulated much more efficiently. Additionally, the NumPy library provides powerful multidimensional array and matrix data structures and a large collection of high-level mathematical functions to operate on them. \n",
    "\n",
    "The NumPy library also offers classes and functions to test linear algebra operations, Fourier series and random number generation. The library is used extensively when working with numerical data in Python and other Python libraries such as Pandas, Matplotlib and SciPy are built on it. \n",
    "\n",
    "## Installing NumPy\n",
    "\n",
    "The only prerequisite for NumPy is Python. Installation of the Anaconda Distribution is an easy way to obtain this as it includes Python, NumPy, and other commonly used packages. Full details of which are available here: https://docs.anaconda.com/anaconda/install/\n",
    "\n",
    "NumPy can also be installed with conda, with pip, or with a package manager on macOS and Linux. \n",
    "\n",
    "#### Installing with conda\n",
    "If you use `conda` you can install it with\n",
    "`conda install numpy`\n",
    "\n",
    "#### Installing via Pip\n",
    "If you use `pip` you can install with \n",
    "`pip install numpy`\n",
    "\n",
    "#### Install System-wide via a Package Manager\n",
    "The NumPy documentation offers detailed guides on how to install NumPy for Linux and Mac users.\n",
    "This information is available here: \n",
    "https://numpy.org/install/\n",
    "\n",
    "#### Import of NumPy Library"
   ]
  },
  {
   "cell_type": "code",
   "execution_count": 1,
   "metadata": {},
   "outputs": [],
   "source": [
    "# This imports the libraries (NumPy and MatPlotLib) that will be used in this notebook\n",
    "\n",
    "import matplotlib.pyplot as plt\n",
    "%matplotlib inline"
   ]
  },
  {
   "cell_type": "markdown",
   "metadata": {},
   "source": [
    "### numpy.random\n",
    "Random numbers (numbers that cannot be logically predicted) have many uses such as the generation of encryption keys, to prevent selection bias in experimentation and the simulation of complex models and studies.\n",
    "\n",
    "To generate a truly random number a source of true randomness is needed. Often this is a physical input like a key stroke, or a mouse click. In programming algorithms are used to generate random numbers. Algorithms adhere to a set of rules to generate random numbers. While these numbers appear close to truly random numbers they are generated through a deterministic process (where all the data required to determine the outcome is known in advance) making them pseudorandom. \n",
    "\n",
    "The standard Python library offers a module random that includes functions to generate random numbers with a few basic distributions. In contrast to this the NumPy library offers the `numpy.random` module which allows for the generation of arrays of random numbers, using a wide selection of distributions and across different intervals.\n",
    "\n",
    "NumPy’s random sampling routines can be classified in four ways\n",
    "- Simple Random Data\n",
    "- Permutations\n",
    "- Distributions\n",
    "- Random Generator \n",
    "\n",
    "#### Simple Random Data\n",
    "NumPy’s Simple Random Data Routines produce randomly generated numbers as defined by the user.\n",
    "\n",
    "This could be generating a single random integer:"
   ]
  },
  {
   "cell_type": "code",
   "execution_count": 4,
   "metadata": {},
   "outputs": [
    {
     "name": "stdout",
     "output_type": "stream",
     "text": [
      "66\n"
     ]
    }
   ],
   "source": [
    "x = np.random.randint(100) # Here we set the range of values for the integer to be selected from. \n",
    "\n",
    "print(x)"
   ]
  },
  {
   "cell_type": "markdown",
   "metadata": {},
   "source": [
    "This can be tested by re-running the above code or by changing the range of values to generate the random integar from:"
   ]
  },
  {
   "cell_type": "code",
   "execution_count": 12,
   "metadata": {},
   "outputs": [
    {
     "name": "stdout",
     "output_type": "stream",
     "text": [
      "886\n"
     ]
    }
   ],
   "source": [
    "x = np.random.randint(1000) # Here we set the range of values for the integer to be selected from. \n",
    "\n",
    "print(x)"
   ]
  },
  {
   "cell_type": "markdown",
   "metadata": {},
   "source": [
    "Or used to generate a random float using `rand()`"
   ]
  },
  {
   "cell_type": "code",
   "execution_count": 13,
   "metadata": {},
   "outputs": [
    {
     "name": "stdout",
     "output_type": "stream",
     "text": [
      "[0.20184672 0.34224609 0.22827787 0.24597548 0.47154685]\n"
     ]
    }
   ],
   "source": [
    "x = np.random.rand(5) # Here we set the number of float values to be returned as 5.\n",
    "                        # As no range of values is set the module will return float values between 0.0 and 1.0 \n",
    "                        #  but not including 1.0\n",
    "                        \n",
    "print (x)"
   ]
  },
  {
   "cell_type": "markdown",
   "metadata": {},
   "source": [
    "The randint() function can also take the input of 2 integers as a range of values and returns an output of a random integer value within the range provided."
   ]
  },
  {
   "cell_type": "code",
   "execution_count": 15,
   "metadata": {},
   "outputs": [
    {
     "name": "stdout",
     "output_type": "stream",
     "text": [
      "Random number between 0 and 10 is 8\n"
     ]
    }
   ],
   "source": [
    "Random_1 = np.random.randint(0, 10)  # Here we set the range of values for the integer to be selected from.\n",
    "\n",
    "print(\"Random number between 0 and 10 is % s\" % (Random_1))"
   ]
  },
  {
   "cell_type": "markdown",
   "metadata": {},
   "source": [
    "The `randint()` function can also take the input of 2 integers as a range of values and returns an output of a random integer value within the range provided:"
   ]
  },
  {
   "cell_type": "code",
   "execution_count": 14,
   "metadata": {},
   "outputs": [
    {
     "name": "stdout",
     "output_type": "stream",
     "text": [
      "Random number between 0 and 10 is 1\n"
     ]
    }
   ],
   "source": [
    "Random_2 = np.random.randint(0, 10)  # Here we set the range of values for the integer to be selected from.\n",
    "\n",
    "print(\"Random number between 0 and 10 is % s\" % (Random_2))"
   ]
  },
  {
   "cell_type": "markdown",
   "metadata": {},
   "source": [
    "Whether they are poistive or negative:"
   ]
  },
  {
   "cell_type": "code",
   "execution_count": 16,
   "metadata": {},
   "outputs": [
    {
     "name": "stdout",
     "output_type": "stream",
     "text": [
      "Random number between -10 and -1 is -3\n"
     ]
    }
   ],
   "source": [
    "Random_3 = np.random.randint(-100, -10)  # Here we set a negative range of values for the integer to be selected from.\n",
    "\n",
    "print(\"Random number between -100 and -10 is % s\" % (Random_3))"
   ]
  },
  {
   "cell_type": "markdown",
   "metadata": {},
   "source": [
    "Characters/String can't be used as parameters in the `randint()` function:"
   ]
  },
  {
   "cell_type": "code",
   "execution_count": 20,
   "metadata": {},
   "outputs": [
    {
     "ename": "NameError",
     "evalue": "name 'a' is not defined",
     "output_type": "error",
     "traceback": [
      "\u001b[1;31m---------------------------------------------------------------------------\u001b[0m",
      "\u001b[1;31mNameError\u001b[0m                                 Traceback (most recent call last)",
      "\u001b[1;32m<ipython-input-20-e4c16973c3de>\u001b[0m in \u001b[0;36m<module>\u001b[1;34m\u001b[0m\n\u001b[1;32m----> 1\u001b[1;33m \u001b[0mRandom_4\u001b[0m \u001b[1;33m=\u001b[0m \u001b[0mnp\u001b[0m\u001b[1;33m.\u001b[0m\u001b[0mrandom\u001b[0m\u001b[1;33m.\u001b[0m\u001b[0mrandint\u001b[0m\u001b[1;33m(\u001b[0m\u001b[0ma\u001b[0m\u001b[1;33m,\u001b[0m \u001b[0mz\u001b[0m\u001b[1;33m)\u001b[0m\u001b[1;33m\u001b[0m\u001b[1;33m\u001b[0m\u001b[0m\n\u001b[0m\u001b[0;32m      2\u001b[0m \u001b[0mprint\u001b[0m\u001b[1;33m(\u001b[0m\u001b[1;34m\"Random letter between a and z is % s\"\u001b[0m \u001b[1;33m%\u001b[0m \u001b[1;33m(\u001b[0m\u001b[0mRandom_4\u001b[0m\u001b[1;33m)\u001b[0m\u001b[1;33m)\u001b[0m\u001b[1;33m\u001b[0m\u001b[1;33m\u001b[0m\u001b[0m\n",
      "\u001b[1;31mNameError\u001b[0m: name 'a' is not defined"
     ]
    }
   ],
   "source": [
    "Random_4 = np.random.randint(a, z) \n",
    "print(\"Random letter between a and z is % s\" % (Random_4)) "
   ]
  },
  {
   "cell_type": "markdown",
   "metadata": {},
   "source": [
    "Neither can floating point values:"
   ]
  },
  {
   "cell_type": "code",
   "execution_count": 24,
   "metadata": {},
   "outputs": [
    {
     "ename": "ValueError",
     "evalue": "low >= high",
     "output_type": "error",
     "traceback": [
      "\u001b[1;31m---------------------------------------------------------------------------\u001b[0m",
      "\u001b[1;31mValueError\u001b[0m                                Traceback (most recent call last)",
      "\u001b[1;32m<ipython-input-24-eb45cdcc49fc>\u001b[0m in \u001b[0;36m<module>\u001b[1;34m\u001b[0m\n\u001b[1;32m----> 1\u001b[1;33m \u001b[0mRandom_5\u001b[0m \u001b[1;33m=\u001b[0m \u001b[0mnp\u001b[0m\u001b[1;33m.\u001b[0m\u001b[0mrandom\u001b[0m\u001b[1;33m.\u001b[0m\u001b[0mrandint\u001b[0m\u001b[1;33m(\u001b[0m\u001b[1;36m1.32\u001b[0m\u001b[1;33m,\u001b[0m \u001b[1;36m1.40\u001b[0m\u001b[1;33m)\u001b[0m\u001b[1;33m\u001b[0m\u001b[1;33m\u001b[0m\u001b[0m\n\u001b[0m\u001b[0;32m      2\u001b[0m \u001b[0mprint\u001b[0m\u001b[1;33m(\u001b[0m\u001b[1;34m\"Random letter between 1.32 and 1.40 is % s\"\u001b[0m \u001b[1;33m%\u001b[0m \u001b[1;33m(\u001b[0m\u001b[0mRandom_5\u001b[0m\u001b[1;33m)\u001b[0m\u001b[1;33m)\u001b[0m\u001b[1;33m\u001b[0m\u001b[1;33m\u001b[0m\u001b[0m\n",
      "\u001b[1;32mmtrand.pyx\u001b[0m in \u001b[0;36mnumpy.random.mtrand.RandomState.randint\u001b[1;34m()\u001b[0m\n",
      "\u001b[1;32m_bounded_integers.pyx\u001b[0m in \u001b[0;36mnumpy.random._bounded_integers._rand_int32\u001b[1;34m()\u001b[0m\n",
      "\u001b[1;31mValueError\u001b[0m: low >= high"
     ]
    }
   ],
   "source": [
    "Random_5 = np.random.randint(1.32, 1.40) \n",
    "print(\"Random letter between 1.32 and 1.40 is % s\" % (Random_5)) "
   ]
  },
  {
   "cell_type": "code",
   "execution_count": null,
   "metadata": {},
   "outputs": [],
   "source": []
  }
 ],
 "metadata": {
  "kernelspec": {
   "display_name": "Python 3",
   "language": "python",
   "name": "python3"
  },
  "language_info": {
   "codemirror_mode": {
    "name": "ipython",
    "version": 3
   },
   "file_extension": ".py",
   "mimetype": "text/x-python",
   "name": "python",
   "nbconvert_exporter": "python",
   "pygments_lexer": "ipython3",
   "version": "3.8.3"
  }
 },
 "nbformat": 4,
 "nbformat_minor": 4
}
