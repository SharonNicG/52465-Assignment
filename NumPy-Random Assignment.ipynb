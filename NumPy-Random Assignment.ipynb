{
 "cells": [
  {
   "cell_type": "markdown",
   "metadata": {},
   "source": [
    "# NumPy Random \n",
    "> Assignment for Module 52465 Programming for Data Analysis\n",
    "\n",
    "---\n",
    "## Table of Contents\n",
    "\n",
    "- [Introduction](#introduction)\n",
    "- [NumPy](#numpy)\n",
    "- [Installing NumPy](#installing)\n",
    "- [numpy.random](#numpy.random)\n",
    " - [Simple Random Data](#simple)\n",
    "     - [rand](#rand)\n",
    "     - [randint](#randint)\n",
    "     - [choice](#choice)\n",
    " - [Permutations](#Permutations)\n",
    "     - [shuffle()](#shuffle)\n",
    "     - [permutation()](#permutation)\n",
    " - [Distributions](#Distributions)\n",
    "   - [Normal Distribution](#normal)\n",
    "   - [Binomial Distribution](#binomial)\n",
    "   - [Poisson Distribution](#poisson)\n",
    "   - [Uniform Distribution](#uniform)\n",
    "   - [Triangular Distribution](#triangular)\n",
    " - [Seeds](#seeds)\n",
    "   - [random.seed](#random.seed)\n",
    "   - [Seeds and Permutations](#seed.permutation)\n",
    "   - [Seeds and Distributions](#seed.distributions)\n",
    " - [References](#references)\n",
    "\n",
    "---\n",
    "### Introduction<a class=\"anchor\" id=\"introduction\"></a>\n",
    "\n",
    "This project sets out to examine the `numpy. random` package and some of its distributions, through a review of documentation on the package and analysis of data sets using its operations[1]. \n",
    "\n",
    "---\n",
    "### NumPy<a class=\"anchor\" id=\"numpy\"></a>\n",
    "\n",
    "NumPy, short for Numerical Python, is a principal library in Python[2]. Created in 2005, by Travis Oliphant, this open-source software is used for mathematical, scientific, engineering and data science programming[3]. \n",
    "\n",
    "The NumPy library provides tools to work efficiently and effectively with large quantities of numerical data.\n",
    "\n",
    "#### Why use NumPy over Python Lists?\n",
    "To work with a collection of elements (an array) in Python, we use lists. Lists are useful when working with varying types and small amounts of data, but how Python stores lists are slow and resource-heavy[4].\n",
    "\n",
    "A Python list is an array of signposts pointing to a location that has information about an element. This can be sufficient when working with smaller quantities or varying types of data but is a slow and resource-heavy process for larger or complex work[5].\n",
    "\n",
    "NumPy’s ndarrays are homogenous (of a single type) n-dimensional (vectorised) array objects that are stored in one continuous place they can be accessed, processed and manipulated much more efficiently. Additionally, the NumPy library provides powerful multidimensional array and matrix data structures and an extensive collection of high-level mathematical functions to operate on them[6]. \n",
    "\n",
    "The NumPy library also offers classes and functions to test linear algebra operations, Fourier series and random number generation[6][7]. The library is used when working with numerical data in Python and other Python libraries such as Pandas, Matplotlib and SciPy are built on it[8]. \n",
    "\n",
    "## Installing NumPy<a class=\"anchor\" id=\"installing\"></a>\n",
    "\n",
    "The only prerequisite for NumPy is Python. Installation of the Anaconda Distribution is an easy way to obtain this as it includes Python, NumPy, and other commonly used packages[9][10]. Full details of which are available here: https://docs.anaconda.com/anaconda/install/\n",
    "\n",
    "NumPy can also be installed with conda, with pip, or with a package manager on macOS and Linux[11][12]. \n",
    "\n",
    "#### Installing with conda\n",
    "If you use `conda`, you can install it with\n",
    "`conda install numpy`\n",
    "\n",
    "#### Installing via Pip\n",
    "If you use `pip`, you can install with \n",
    "`pip install numpy`\n",
    "\n",
    "#### Install System-wide via a Package Manager\n",
    "The NumPy documentation offers detailed guides on how to install NumPy for Linux and Mac users.\n",
    "This information is available here: \n",
    "https://numpy.org/install/ \n",
    "\n",
    "#### Import of NumPy Library"
   ]
  },
  {
   "cell_type": "code",
   "execution_count": 10,
   "metadata": {},
   "outputs": [],
   "source": [
    "# This imports the libraries (NumPy, MatPlotLib and Seaborn) that will be used in this notebook\n",
    "# The last line is a magic function to ensure plots are shown\n",
    "import numpy as np\n",
    "import matplotlib.pyplot as plt\n",
    "import seaborn as sns\n",
    "%matplotlib inline "
   ]
  },
  {
   "cell_type": "markdown",
   "metadata": {},
   "source": [
    "### numpy.random<a class=\"anchor\" id=\"numpy.random\"></a>\n",
    "Random numbers (numbers that cannot be logically predicted) have many uses such as the generation of encryption keys, to prevent selection bias in experimentation and the simulation of complex models and studies [13].\n",
    "\n",
    "Generate a genuinely random number requires a source of true randomness is needed. Often this is a physical input like a keystroke or a mouse click [14]. In programming, algorithms are used to generate random numbers. Algorithms adhere to a set of rules to generate random numbers[15]. While these numbers appear close to genuinely random numbers, they are generated through a deterministic process (where data required to determine the outcome is known in advance) making them pseudorandom[16][17]. \n",
    "\n",
    "The standard Python library offers the module random that includes functions to generate random numbers with a few basic distributions[18]. In contrast to this, the NumPy library offers the `numpy.random` module which allows for the generation of arrays of random numbers, using a wide selection of distributions and across different intervals[19].\n",
    "\n",
    "NumPy’s random sampling routines can be classified in four ways:\n",
    "- Simple Random Data\n",
    "- Permutations\n",
    "- Distributions\n",
    "- Random Generator \n",
    "\n",
    "#### Random Number Generators\n",
    "The NumPy Package produces random numbers using Random Number Generators that define the process by which numbers are generated for use by NumPy functions. Generators are a reliable way to generate random numbers [20][21]. \n",
    "\n",
    "`numpy.random` offers several Random Number Generators. By defining the Generator, you wish to use at the start of your script, and your code becomes stable and reliable[22]. This will be explored more in the `Seeds` section. For now, we will choose the Generator for use in this notebook[23]. Its methods will be applied until the generator type is reset. "
   ]
  },
  {
   "cell_type": "code",
   "execution_count": 2,
   "metadata": {},
   "outputs": [
    {
     "name": "stdout",
     "output_type": "stream",
     "text": [
      "Your choosen Random Number Generator is Generator(PCG64)\n"
     ]
    }
   ],
   "source": [
    "rng = np.random.default_rng(100) # This sets our Generator type with a declared value of 100\n",
    "\n",
    "print(\"The choosen Random Number Generator is % s\" % (rng))"
   ]
  },
  {
   "cell_type": "markdown",
   "metadata": {},
   "source": [
    "#### Simple Random Data<a class=\"anchor\" id=\"simple\"></a>\n",
    "NumPy’s Simple Random Data Routines produce randomly generated numbers as defined by the user[24][25][26].\n",
    "\n",
    "##### rng.integers<a class=\"anchor\" id=\"rng.integers\"></a>\n",
    "The `rng.integers` function is used for generating single random integers or arrays of random integers[27].\n",
    "\n",
    "`rng.integers(low, high=None, size=None, dtype=np.int64, endpoint=False)`[28]\n",
    "\n",
    "* `low` - The number of trials\n",
    " * Integers, array-like integers and floats are accepted for `n`. Though floats are truncated to integers\n",
    "* `high` - The probability of success for each trial\n",
    " * Floats and array-like floats are taken for `p`\n",
    "* `size` - The size of the returned array\n",
    " * The `size` parameter is optional. It takes integers and tuples of integers\n",
    "* `dtype` - This sets the preferred data type \n",
    "  * This parameter is optional and the default value is np.int64\n",
    "* `endpoint` - Determines whether to include or exclude `high`\n",
    "  * The default for this parameter is False"
   ]
  },
  {
   "cell_type": "code",
   "execution_count": 3,
   "metadata": {
    "scrolled": true
   },
   "outputs": [
    {
     "name": "stdout",
     "output_type": "stream",
     "text": [
      "76\n"
     ]
    }
   ],
   "source": [
    "x = rng.integers(100)  # Here we set the range of values for the integer to be selected from\n",
    "                                # This method returns and integers between 0 and 99\n",
    "\n",
    "print(x)"
   ]
  },
  {
   "cell_type": "markdown",
   "metadata": {},
   "source": [
    "This can be tested by re-running the above code or by changing the range of values to generate the random integer from"
   ]
  },
  {
   "cell_type": "code",
   "execution_count": 4,
   "metadata": {},
   "outputs": [
    {
     "name": "stdout",
     "output_type": "stream",
     "text": [
      "83\n"
     ]
    }
   ],
   "source": [
    "# Here we set the range of values for the integer to be selected from\n",
    "# This method returns any integers between 0 and 999\n",
    "x = rng.integers(100)\n",
    "\n",
    "print(x)"
   ]
  },
  {
   "cell_type": "markdown",
   "metadata": {},
   "source": [
    "The `rng.integers` function can also take the input of 2 integers as a range of values and returns an output of a random integer value within the range provided "
   ]
  },
  {
   "cell_type": "code",
   "execution_count": 5,
   "metadata": {},
   "outputs": [
    {
     "name": "stdout",
     "output_type": "stream",
     "text": [
      "Random number between 0 and 10 is 1\n"
     ]
    }
   ],
   "source": [
    "# Here we set the range of values for the integer to be selected from\n",
    "# Including 0 but excluding 10\n",
    "Random_1 = rng.integers(0, 10)\n",
    "\n",
    "print(\"Random number between 0 and 10 is % s\" % (Random_1))"
   ]
  },
  {
   "cell_type": "markdown",
   "metadata": {},
   "source": [
    "Whether they are positive or negative:"
   ]
  },
  {
   "cell_type": "code",
   "execution_count": 6,
   "metadata": {},
   "outputs": [
    {
     "name": "stdout",
     "output_type": "stream",
     "text": [
      "A random integer between -100 and -10 (excl.) is: -47\n"
     ]
    }
   ],
   "source": [
    "# Here we set a negative range of values for the integer to be selected from\n",
    "# As no endpoint is provided it sets to the default False\n",
    "# Numbers will be drawn from -100 to -9\n",
    "Random_2 = rng.integers(-100, -10)\n",
    "\n",
    "print(\"A random integer between -100 and -10 (excl.) is: % s\" % (Random_2))"
   ]
  },
  {
   "cell_type": "markdown",
   "metadata": {},
   "source": [
    "By setting the `endpoint` to True the function will include the `high` value. "
   ]
  },
  {
   "cell_type": "code",
   "execution_count": 7,
   "metadata": {},
   "outputs": [
    {
     "name": "stdout",
     "output_type": "stream",
     "text": [
      "Random number between 0 and 100 is 8\n"
     ]
    }
   ],
   "source": [
    "# Here we set a negative range of values for the integer to be selected from\n",
    "Random_3 = rng.integers(0, 100, endpoint=True)\n",
    "\n",
    "print(\"Random number between 0 and 100 is % s\" % (Random_3))"
   ]
  },
  {
   "cell_type": "markdown",
   "metadata": {},
   "source": [
    "We can also change the bit type from the default np.int64."
   ]
  },
  {
   "cell_type": "code",
   "execution_count": 8,
   "metadata": {},
   "outputs": [
    {
     "name": "stdout",
     "output_type": "stream",
     "text": [
      "Random number between -128 and 127 is 112\n"
     ]
    }
   ],
   "source": [
    "# Here we set a negative range of values for the integer to be selected from\n",
    "# By setting the dtype to np.int8 the range of acceptabel values is -128 to 127\n",
    "Random_3 = rng.integers(-128, 127, dtype=np.int8)\n",
    "\n",
    "print(\"Random number between -128 and 127 is % s\" % (Random_3))"
   ]
  },
  {
   "cell_type": "markdown",
   "metadata": {},
   "source": [
    "Characters/String can't be used as parameters in the `rng. integers` function:"
   ]
  },
  {
   "cell_type": "code",
   "execution_count": 11,
   "metadata": {
    "scrolled": true
   },
   "outputs": [
    {
     "ename": "NameError",
     "evalue": "name 'a' is not defined",
     "output_type": "error",
     "traceback": [
      "\u001b[1;31m---------------------------------------------------------------------------\u001b[0m",
      "\u001b[1;31mNameError\u001b[0m                                 Traceback (most recent call last)",
      "\u001b[1;32m<ipython-input-11-1d8b34df5420>\u001b[0m in \u001b[0;36m<module>\u001b[1;34m\u001b[0m\n\u001b[0;32m      1\u001b[0m \u001b[1;31m# Here we try to pass characters/strings to the function\u001b[0m\u001b[1;33m\u001b[0m\u001b[1;33m\u001b[0m\u001b[1;33m\u001b[0m\u001b[0m\n\u001b[1;32m----> 2\u001b[1;33m \u001b[0mRandom_3\u001b[0m \u001b[1;33m=\u001b[0m \u001b[0mrng\u001b[0m\u001b[1;33m.\u001b[0m\u001b[0mintegers\u001b[0m\u001b[1;33m(\u001b[0m\u001b[0ma\u001b[0m\u001b[1;33m,\u001b[0m \u001b[0mz\u001b[0m\u001b[1;33m)\u001b[0m\u001b[1;33m\u001b[0m\u001b[1;33m\u001b[0m\u001b[0m\n\u001b[0m\u001b[0;32m      3\u001b[0m \u001b[0mprint\u001b[0m\u001b[1;33m(\u001b[0m\u001b[1;34m\"Random letter between a and z is % s\"\u001b[0m \u001b[1;33m%\u001b[0m \u001b[1;33m(\u001b[0m\u001b[0mRandom_3\u001b[0m\u001b[1;33m)\u001b[0m\u001b[1;33m)\u001b[0m\u001b[1;33m\u001b[0m\u001b[1;33m\u001b[0m\u001b[0m\n",
      "\u001b[1;31mNameError\u001b[0m: name 'a' is not defined"
     ]
    }
   ],
   "source": [
    "# Here we try to pass characters/strings to the function\n",
    "Random_3 = rng.integers(a, z) \n",
    "print(\"Random letter between a and z is % s\" % (Random_3)) "
   ]
  },
  {
   "cell_type": "markdown",
   "metadata": {},
   "source": [
    "Neither can floating point values:"
   ]
  },
  {
   "cell_type": "code",
   "execution_count": null,
   "metadata": {},
   "outputs": [],
   "source": [
    "# Here we try to pass floats to the function\n",
    "Random_4 = rng.integers(1.32, 1.40) \n",
    "print(\"Random letter between 1.32 and 1.40 is % s\" % (Random_4)) "
   ]
  },
  {
   "cell_type": "markdown",
   "metadata": {},
   "source": [
    "Having established that `rng.integers` can generate single random integers, let’s use this information to look at arrays.\n",
    "\n",
    "By including a `size` parameter in the `rng.integers` function the size of the array can be specified. This could be a 1-dimensional array:"
   ]
  },
  {
   "cell_type": "code",
   "execution_count": null,
   "metadata": {},
   "outputs": [],
   "source": [
    "# Here we are requesting 5 random integers between 0 and 100\n",
    "Random_5 = rng.integers(100, size=(5))\n",
    "\n",
    "print(\"Here are the random integars you have requested % s\" % (Random_5))"
   ]
  },
  {
   "cell_type": "markdown",
   "metadata": {},
   "source": [
    "Or multidimensional array:"
   ]
  },
  {
   "cell_type": "code",
   "execution_count": null,
   "metadata": {},
   "outputs": [],
   "source": [
    "# Here we are requesting random integers between 0 and 100\n",
    "# To be presented in 4 rows each containing 10 integers\n",
    "Random_7 = rng.integers(100, size=(4, 10)) \n",
    "\n",
    "print (Random_7)"
   ]
  },
  {
   "cell_type": "markdown",
   "metadata": {},
   "source": [
    "Tuples are also accepted by the `size` parameter"
   ]
  },
  {
   "cell_type": "code",
   "execution_count": null,
   "metadata": {},
   "outputs": [],
   "source": [
    "Tupl_1 = rng.integers(5, size=(3,4,10))\n",
    "\n",
    "print (Tupl_1)"
   ]
  },
  {
   "cell_type": "markdown",
   "metadata": {},
   "source": [
    "##### rng.random<a class=\"anchor\" id=\"random\"></a>\n",
    "The `rng.random` function allows for the creation of arrays using floats. Similarly, to the `rng.integers` function, the inclusion of a size parameter determines the shape of the array[29]. \n",
    "\n",
    "`rng.random(size=None, dtype=np.float64, out=None)`[29][30]\n",
    "\n",
    "* `size` - The size of the returned array\n",
    "  * The size parameter is optional. It accepts integers and tuples of integers\n",
    "* `dtype` - This sets the preferred data type\n",
    "  * This parameter is optional and only float64 and float32 are supported\n",
    "  * The default value is np.int64\n",
    "* `out` - Allows for alternative output arrays\n",
    "\n",
    "Again this can be a 1-dimensional array:"
   ]
  },
  {
   "cell_type": "code",
   "execution_count": null,
   "metadata": {},
   "outputs": [],
   "source": [
    "# Here we are requesting 5 random floats in a 1-dimensional array\n",
    "Random_8 = rng.random(5)\n",
    "\n",
    "print(\"Here are the random floats you have requested % s\" % (Random_8))"
   ]
  },
  {
   "cell_type": "markdown",
   "metadata": {},
   "source": [
    "Or a multidimensional array:"
   ]
  },
  {
   "cell_type": "code",
   "execution_count": null,
   "metadata": {},
   "outputs": [],
   "source": [
    "# Here we are requesting 5 random floats in a multidimensional array\n",
    "Random_9 = rng.random((3,4,5))\n",
    "\n",
    "print(\"Here are the random floats you have requested % s\" % Random_9)"
   ]
  },
  {
   "cell_type": "markdown",
   "metadata": {},
   "source": [
    "Where no value is passed to the function, a random float is returned"
   ]
  },
  {
   "cell_type": "code",
   "execution_count": null,
   "metadata": {},
   "outputs": [],
   "source": [
    "Random_10 = rng.random()\n",
    "\n",
    "print(\"Here are the random floats you have requested % s\" % (Random_10))"
   ]
  },
  {
   "cell_type": "markdown",
   "metadata": {},
   "source": [
    "As with `rng.integers`, characters/strings are not accepted"
   ]
  },
  {
   "cell_type": "code",
   "execution_count": null,
   "metadata": {},
   "outputs": [],
   "source": [
    "# Here we try to pass characters/strings to the function\n",
    "Random_3 = rng.random(a, z) \n",
    "print(\"Random letter between a and z is % s\" % (Random_3)) "
   ]
  },
  {
   "cell_type": "markdown",
   "metadata": {},
   "source": [
    "Neither are floats"
   ]
  },
  {
   "cell_type": "code",
   "execution_count": null,
   "metadata": {},
   "outputs": [],
   "source": [
    "# Here we try to pass floats to the function\n",
    "Random_4 = rng.integers(1.32, 1.40) \n",
    "print(\"Random letter between 1.32 and 1.40 is % s\" % (Random_4)) "
   ]
  },
  {
   "cell_type": "markdown",
   "metadata": {},
   "source": [
    "##### rng.choice<a class=\"anchor\" id=\"rng.choice\"></a>\n",
    "Where `rng.random` and `rng.integers` can generate arrays from a range of specified values `rng.choice` can generate an array from an array[31].\n",
    "\n",
    "`rng.choice` can return a single random value from the provided array:"
   ]
  },
  {
   "cell_type": "code",
   "execution_count": null,
   "metadata": {},
   "outputs": [],
   "source": [
    "# Here we are requesting that one of the presented values\n",
    "# from the provided array is randomly selected to be returned\n",
    "\n",
    "Choice_1 = rng.choice([5, 6, 7, 8]) \n",
    "print(\"The randomly selected value from the array provided is: % s\" % (Choice_1))"
   ]
  },
  {
   "cell_type": "markdown",
   "metadata": {},
   "source": [
    "Or generate a multi-dimensional array consisting of the values from within the array provided:"
   ]
  },
  {
   "cell_type": "code",
   "execution_count": null,
   "metadata": {},
   "outputs": [],
   "source": [
    "# Here we are requesting the return of an array\n",
    "# with the size and shape we have defined\n",
    "# from the provided array\n",
    "Choice_2 = rng.choice([5, 6, 7, 8], size=(2, 4)) \n",
    "print (Choice_2)"
   ]
  },
  {
   "cell_type": "markdown",
   "metadata": {},
   "source": [
    "### Permutations<a class=\"anchor\" id=\"permutations\"></a>\n",
    "\n",
    "A permutation is an arrangement of elements in order (linear or sequential) or the re-arrangement of an ordered set of elements. NumPy offers 2 permutations `shuffle()` and `permutation()`.\n",
    "\n",
    "#### Shuffle<a class=\"anchor\" id=\"shuffle\"></a>\n",
    "`shuffle()` takes a given set of elements and re-arranges the order in which they are presented. Though it changes the order the elements are presented in it does not create a new list of elements."
   ]
  },
  {
   "cell_type": "code",
   "execution_count": null,
   "metadata": {},
   "outputs": [],
   "source": [
    "# This creates a 1-dimensional array of integers up to the value of 10\n",
    "\n",
    "Shuf_1 = np.arange(10) \n",
    "print (\"Here is the array you requested: % s\" % (Shuf_1))"
   ]
  },
  {
   "cell_type": "code",
   "execution_count": null,
   "metadata": {},
   "outputs": [],
   "source": [
    "Shuf_1 = np.arange(10) # This creates a 1-dimensional array of integers up to the value of 10\n",
    "np.random.shuffle(Shuf_1) # Here we ask for the array to be shuffled\n",
    "\n",
    "print (\"Here is your shuffled array: % s\" % (Shuf_1))"
   ]
  },
  {
   "cell_type": "markdown",
   "metadata": {},
   "source": [
    "We can see that `shuffle()` has reordered the elements in the given array.\n",
    "\n",
    "For multidimensional arrays `shuffle()` only rearranges the given elements along the first axis:"
   ]
  },
  {
   "cell_type": "code",
   "execution_count": null,
   "metadata": {},
   "outputs": [],
   "source": [
    "Shuf_2 = np.arange(15).reshape(3,5) # This creates a multidimensional array with 3 rows\n",
    "                                        # each containing integers up to the value of 15\n",
    "                                        # for shuffle() to work with\n",
    "print (Shuf_2)"
   ]
  },
  {
   "cell_type": "code",
   "execution_count": null,
   "metadata": {},
   "outputs": [],
   "source": [
    "np.random.shuffle(Shuf_2) # Here we identify the array to be shuffled\n",
    "print (Shuf_2)"
   ]
  },
  {
   "cell_type": "markdown",
   "metadata": {},
   "source": [
    "We can see that the order of the rows of elements has changed (the first axis) but the order of the elements within the rows remains the same."
   ]
  },
  {
   "cell_type": "markdown",
   "metadata": {},
   "source": [
    "#### Permutation<a class=\"anchor\" id=\"permutation\"></a>\n",
    "\n",
    "The second style of permutation NumPy offers is `permutation()`.\n",
    "\n",
    "`permuation()` differs from `shuffle()` in two ways:\n",
    "1. Where `shuffle()` shuffles the array in place (effectively overwriting the original array) `permutation()` makes a copy of the array and returns a re-arranged array (leaving the original intact)."
   ]
  },
  {
   "cell_type": "code",
   "execution_count": null,
   "metadata": {},
   "outputs": [],
   "source": [
    "Perm_1 = np.arange(10) # This creates a 1-dimensional array of integers up to the value of 10\n",
    "                            \n",
    "print (\"Here is the array you requested: % s\" % (Perm_1))"
   ]
  },
  {
   "cell_type": "code",
   "execution_count": null,
   "metadata": {
    "scrolled": true
   },
   "outputs": [],
   "source": [
    "Perm_1 = np.arange(10) # This creates a 1-dimensional array of integers up to the value of 10\n",
    "\n",
    "print(\"Here is your permutated array: % s\" % np.random.permutation(Perm_1))  # Here we ask for the array to be permutated"
   ]
  },
  {
   "cell_type": "code",
   "execution_count": null,
   "metadata": {},
   "outputs": [],
   "source": [
    "print (\"Here is your original array: % s\" % (Perm_1)) # Here we call the original array again to see if it remains the same"
   ]
  },
  {
   "cell_type": "markdown",
   "metadata": {},
   "source": [
    "We can see that the original array remains intact and that `permutation()` created a copy to work on and return.\n",
    "\n",
    "2. If an integer is passed to the `permutation()` function it will return a permutated range up to, but not including the given integer"
   ]
  },
  {
   "cell_type": "code",
   "execution_count": null,
   "metadata": {},
   "outputs": [],
   "source": [
    "Perm_2 = np.random.permutation(10) # This creates a permutated range up to but not including 10\n",
    "\n",
    "print (\"Here is the array you requested: % s\" % (Perm_2))"
   ]
  },
  {
   "cell_type": "code",
   "execution_count": null,
   "metadata": {},
   "outputs": [],
   "source": [
    "Perm_2 = np.arange(15).reshape(3,5) # This creates a multidimensional array with 3 rows\n",
    "                                        # each containing integers up to the value of 15\n",
    "                                        # for permutation() to work with\n",
    "print (Perm_2)"
   ]
  },
  {
   "cell_type": "code",
   "execution_count": null,
   "metadata": {},
   "outputs": [],
   "source": [
    "np.random.permutation(Perm_2) # Here we ask for the multidimensional array to be permutated"
   ]
  },
  {
   "cell_type": "markdown",
   "metadata": {},
   "source": [
    "We can see that as with `shuffle()`, `permutation()` only permutates multidimensional arrays along the first axis.\n",
    "And again we can call the original array to see that it is intact."
   ]
  },
  {
   "cell_type": "code",
   "execution_count": null,
   "metadata": {},
   "outputs": [],
   "source": [
    "print (Perm_2) # Here we call the original array again to see if it remains the same"
   ]
  },
  {
   "cell_type": "markdown",
   "metadata": {},
   "source": [
    "To see the distribution of the `permutation()` function we can plot a histogram"
   ]
  },
  {
   "cell_type": "code",
   "execution_count": null,
   "metadata": {},
   "outputs": [],
   "source": [
    "Perm_3 = np.random.permutation(10000) # Here we identify the array for permutation() to work on\n",
    "print (Perm_3)\n",
    "\n",
    "count, bins, ignored = plt.hist(Perm_3, 14, density = True) # This sets the display properties \n",
    "                                                                # of the histogram\n",
    "plt.show()"
   ]
  },
  {
   "cell_type": "markdown",
   "metadata": {},
   "source": [
    "### Distributions<a class=\"anchor\" id=\"distributions\"></a>\n",
    "\n",
    "A probability distribution is a mathematical function that demonstrated the probability of a different outcome occurring.\n",
    "Probability functions are important for data analysis as they help us to understand how data is distributed within the defined range provided. Visualising the output of a distribution function is a helpful way of identifying the probability distribution at play."
   ]
  },
  {
   "cell_type": "markdown",
   "metadata": {},
   "source": [
    "#### Normal Distribution<a class=\"anchor\" id=\"normal\"></a>\n",
    "\n",
    "Many common tasks in data science and statistics involve working with data that is normally distributed. \n",
    "\n",
    "Normal Distribution, also known as Gaussian Distribution, is a continuous distribution that shows the greater frequency at the mean and less frequency further from the mean. When visualised the distribution resembles a bell and is colloquially referred to as a \"bell curve\".\n",
    "\n",
    "`np.random.normal(loc=0.0, scale=1.0, size=None)`\n",
    "\n",
    "* `loc` - The mean (or average) of distribution\n",
    " * If `loc` is not specified it defaults to 0.0\n",
    " * Floats and array-like floats are accepted for `loc`\n",
    "* `scale` - The standard deviation (how to spread out the data is) of the distribution\n",
    " * If `scale` is not specified it defaults to 1.0\n",
    " * Floats and array-like floats are accepted for `loc`\n",
    "* `size` - The size and scale of the returned array\n",
    " * The `size` parameter is optional. It accepts integers and tuples of integers"
   ]
  },
  {
   "cell_type": "code",
   "execution_count": null,
   "metadata": {},
   "outputs": [],
   "source": [
    "# Here we request an array of randomly generated numbers\n",
    "# with an average value of 1, a standard deviation from this of 2\n",
    "# and presented in 3 rows with 4 columns each\n",
    "Norm_1 = np.random.normal(loc=1, scale=2, size=(3, 4))\n",
    "\n",
    "print(Norm_1)"
   ]
  },
  {
   "cell_type": "code",
   "execution_count": null,
   "metadata": {},
   "outputs": [],
   "source": [
    "# Here we request an array of 10,000 randomly generated numbers\n",
    "# with an average value of 1, a standard deviation from this of 2\n",
    "# to be presented on a normal distribution plot\n",
    "sns.distplot(np.random.normal(loc=1, scale=2, size=10000), hist=False, kde=True)\n",
    "\n",
    "plt.show()"
   ]
  },
  {
   "cell_type": "markdown",
   "metadata": {},
   "source": [
    "We can see that the data is normally distributed as it presents in a \"bell curve\"."
   ]
  },
  {
   "cell_type": "markdown",
   "metadata": {},
   "source": [
    "#### Binomial Distribution<a class=\"anchor\" id=\"binomial\"></a>\n",
    "\n",
    "Binomial distribution describes the outcome of discrete or binary events. That is events with only two possible outcomes. \n",
    "For example, success or failure or heads or tails. \n",
    "\n",
    "The distribution summarises the likelihood of each outcome occurring within a given set of parameters. \n",
    "\n",
    "`np.random.binomial(n, p[, size])`\n",
    "\n",
    "* `n` - The number of trials\n",
    " * Integers, array-like integers and floats are accepted for `n`. Though floats are truncated to integers\n",
    "* `p` - The probability of success for each trial\n",
    " * Floats and array-like floats are accepted for `p`\n",
    "* `size` - The size of the returned array\n",
    " * The `size` parameter is optional. It accepts integers and tuples of integers"
   ]
  },
  {
   "cell_type": "code",
   "execution_count": null,
   "metadata": {},
   "outputs": [],
   "source": [
    "Bino_1 = np.random.binomial(10, 0.5, 10000) # Here we are looking for a binomial distribution \n",
    "                                            # with 10 trials and probability 0.5 each trial \n",
    "Bino_1"
   ]
  },
  {
   "cell_type": "code",
   "execution_count": null,
   "metadata": {},
   "outputs": [],
   "source": [
    "# Here we are looking for a binomial distribution \n",
    "# with 10 trials and probability 0.5 for each trial\n",
    "# to be presented as a binomial distribution plot\n",
    "\n",
    "sns.distplot(np.random.binomial(n=10, p=0.5, size=10000), hist=True, kde=False)\n",
    "plt.show()"
   ]
  },
  {
   "cell_type": "markdown",
   "metadata": {},
   "source": [
    "Binomial Distribution can appear to be similar to a Normal Distribution. "
   ]
  },
  {
   "cell_type": "code",
   "execution_count": null,
   "metadata": {},
   "outputs": [],
   "source": [
    "# Here we are looking for both a normal distribution and a binomial distribution \n",
    "# to appear on the same distribution plot\n",
    "# with the parameters of each set to show how similar they can appear\n",
    "\n",
    "sns.distplot(np.random.normal(loc=50, scale=5, size=1000), hist=False, kde=True, label='normal')\n",
    "sns.distplot(np.random.binomial(n=100, p=0.5, size=1000), hist=False, kde=True, label='binomial')\n",
    "\n",
    "plt.show()"
   ]
  },
  {
   "cell_type": "markdown",
   "metadata": {},
   "source": [
    "However, where normal distribution is continuous binomial distribution is discrete/binary. This is blurred by the above visualisation.\n",
    "\n",
    "If we scale this down the difference is more pronounced."
   ]
  },
  {
   "cell_type": "code",
   "execution_count": null,
   "metadata": {},
   "outputs": [],
   "source": [
    "# Here we are looking for a binomial distribution with 10 trials and probability 0.5 each trial\n",
    "# presented as a discrete plot of binomial distribution\n",
    "\n",
    "sns.distplot(np.random.binomial(n=10, p=0.5, size=50), hist=True, kde=False)\n",
    "plt.show()"
   ]
  },
  {
   "cell_type": "markdown",
   "metadata": {},
   "source": [
    "It is worth noting that while the probability of success and failure is the same for all trials the probability of each outcome does not need to be equally likely. In Binomial distributions each trial is independent. As such, the outcome of previous trials does not influence the outcome of the current trial."
   ]
  },
  {
   "cell_type": "code",
   "execution_count": null,
   "metadata": {},
   "outputs": [],
   "source": [
    "Bino_2 = np.random.binomial(100, .25, 100)# A binomial distribution with 10 trials and probability 0.25 for each trial.\n",
    "Bino_3 = np.random.binomial(100, .5, 100) # A binomial distribution with 10 trials and probability 0.5 for each trial.\n",
    "Bino_4 = np.random.binomial(100, .99, 100) # A binomial distribution with 10 trials and probability 0.99 for each trial.\n",
    "\n",
    "\n",
    "# with the outputs of all 3 be presented on a single step filled labelled histogram\n",
    "plt.hist(Bino_2, histtype='stepfilled', alpha=0.7, label='Probability: 25%')\n",
    "plt.hist(Bino_3, histtype='stepfilled', alpha=0.7, label='Probability: 50%')\n",
    "plt.hist(Bino_4, histtype='stepfilled', alpha=0.7, label='Probability: 90%')\n",
    "\n",
    "plt.legend(loc='best')\n",
    "plt.show()"
   ]
  },
  {
   "cell_type": "markdown",
   "metadata": {},
   "source": [
    "#### Poisson Distribution<a class=\"anchor\" id=\"poisson\"></a>\n",
    "\n",
    "Simialrly to Binomial Distributions, the Poisson Distrubtion is a discrte distribution.\n",
    "\n",
    "It examines the probability of an event occurring, be that at all or how often, within a given period of time. \n",
    "The event can happen at any point of time or space within the defined period but the distribution only models the number of occurrences.\n",
    "\n",
    "Poisson distributions are characterised by certain assumptions\n",
    "- There is no limit to the number of times an event can occur, within the defined period\n",
    "- Each event is independent of the other events (similar to trials in Binomial Distributions)\n",
    "- Events cannot occur simultaneously\n",
    "- The rate of event occurrence is, by in large, constant. Though this may vary depending on the length of the defined period.\n",
    "\n",
    "Poisson Distributions have 2 parameters\n",
    "\n",
    "`np.random.Poisson(lam= , size= )`\n",
    "* `lam`- The rate or the number of known occurrences of an event within a given period of time\n",
    "* `size`- The size of the returned array"
   ]
  },
  {
   "cell_type": "code",
   "execution_count": null,
   "metadata": {},
   "outputs": [],
   "source": [
    "# Here we are looking for the number of times an event will occur at a rate of 3 per unit of time\n",
    "# in 100 instances\n",
    "\n",
    "Pois_1 = np.random.poisson(3, 100) \n",
    "\n",
    "print (Pois_1)"
   ]
  },
  {
   "cell_type": "code",
   "execution_count": null,
   "metadata": {},
   "outputs": [],
   "source": [
    "# Here we are looking to visualise the probable number of times an event will occur \n",
    "# in 1000 instances, at a rate of 3 occurrences per unit of time \n",
    "\n",
    "sns.distplot(np.random.poisson(3, 10000), hist=True, kde=False)\n",
    "                   \n",
    "plt.show()"
   ]
  },
  {
   "cell_type": "markdown",
   "metadata": {},
   "source": [
    "We can see that the probability peaks at 3\n",
    "\n",
    "As with Binomial Distributions, large scale Poisson Distributions can appear to be similar to Normal Distributions depending on the set mean and standard deviation."
   ]
  },
  {
   "cell_type": "code",
   "execution_count": null,
   "metadata": {},
   "outputs": [],
   "source": [
    "# Here we are looking for the outputs of both a normal distribution and a poisson distribution \n",
    "# to appear on the same distribution plot\n",
    "# with the parameters of each set to show how similar they can appear\n",
    "\n",
    "sns.distplot(np.random.normal(loc=50, scale=8, size=1000), hist=False, kde=True, label='normal')\n",
    "sns.distplot(np.random.poisson(lam=50, size=1000), hist=False, kde=True, label='poisson')\n",
    "\n",
    "plt.show()"
   ]
  },
  {
   "cell_type": "markdown",
   "metadata": {},
   "source": [
    "While Binomial and Poisson Distributions are both discrete distribution, Binomial distributions are based on discreet events whereas Poisson distributions are based on continuous events. In Binomial distributions, the number of events (attempts) is set. Poisson Distributions has a finite number of attempts within the set period.\n",
    "\n",
    "That being said, a very large Binomial Distribution with a very low probability of success would resemble a Poisson Distribution when visualised."
   ]
  },
  {
   "cell_type": "code",
   "execution_count": null,
   "metadata": {
    "scrolled": true
   },
   "outputs": [],
   "source": [
    "# Here we are looking for the outputs of both a binomial distribution and a poisson distribution \n",
    "# to appear on the same distribution plot\n",
    "# with the parameters of each set to show how similar they can appear\n",
    "\n",
    "sns.distplot(np.random.binomial(n=10000, p=0.01, size=1000), hist=False, kde=True, label='binomial')\n",
    "sns.distplot(np.random.poisson(lam=100, size=1000), hist=False, kde=True, label='poisson')\n",
    "\n",
    "plt.show()"
   ]
  },
  {
   "cell_type": "markdown",
   "metadata": {},
   "source": [
    "#### Uniform Distribution<a class=\"anchor\" id=\"uniform\"></a>\n",
    "\n",
    "In Uniform Distributions, every event has an equal probability of occurring. This is referred to as \"constant probability\".\n",
    "Though the random selection of event occurrences means that the uniformity of distribution is more defined at a larger scale. \n",
    "\n",
    "Uniform Distributions have three parameters\n",
    "\n",
    "`uniform (low=0.0, high=1.0, size=None)`\n",
    "\n",
    "* `low`- The lowest/minimum value to be included in the distribution\n",
    " * Floats and array-like floats are accepted for `low`\n",
    " * The default value is 0\n",
    "* `high`- The largest value/maximum to be included in the distribution\n",
    " * Floats and array-like floats are accepted for `high`\n",
    " * The default value is 1.0\n",
    "* `size`- The size of the returned array\n",
    " * The `size` parameter is optional. It accepts integers and tuples of integers"
   ]
  },
  {
   "cell_type": "code",
   "execution_count": null,
   "metadata": {},
   "outputs": [],
   "source": [
    "Unif_1 = np.random.uniform(-1,5,10) # Generate a sample array of random data \n",
    "                                    # within the range -1 to 5 with 10 elements\n",
    "print (Unif_1)"
   ]
  },
  {
   "cell_type": "code",
   "execution_count": null,
   "metadata": {
    "scrolled": true
   },
   "outputs": [],
   "source": [
    "# Generate a sample array of random data \n",
    "# within the range -1 to 0 with 10 elements\n",
    "# and presenting the output as a histogram with a line to show the frequency distribution\n",
    "\n",
    "Unif_2 = np.random.uniform(-1, 0, 10000)\n",
    "count, bins, ignored = plt.hist(Unif_2, 15, density=True)\n",
    "plt.plot(bins, np.ones_like(bins), linewidth=4, color='r')\n",
    "plt.show()"
   ]
  },
  {
   "cell_type": "markdown",
   "metadata": {},
   "source": [
    "As the probability of each number being generated is equal the distribution maintains a nearly constant height - highlighted here by the red line.\n",
    "\n",
    "In this was Uniform Distributions differ from Normal, Binomial and Poisson Distributions.\n",
    "Probability within the Uniform Distribution is equal for all events. Whereas in Normal Distribution they are distributed based on the mean and standard deviation, in Binomial Distributions distribution is based on the number of occurrence of an event within a finite number, which can vary, and Poisson Distributions can have any number of events."
   ]
  },
  {
   "cell_type": "markdown",
   "metadata": {},
   "source": [
    "#### Triangular Distribution<a class=\"anchor\" id=\"triangular\"></a>\n",
    "\n",
    "Triangular Distributions present a random number from a weighted range. It distributes events between the maximum and minimum values provided and based on a third value that indicates what the most likely outcome will be. \n",
    "\n",
    "`np.random.triangular(left, mode, right, size=None)`\n",
    "\n",
    "* `left` - This is the lower limit\n",
    " * Floats and array-like floats are accepted for `left`\n",
    "* `mode` - This is the event that occurs most often within the range\n",
    " * Floats and array-like floats are accepted for `mode`\n",
    " * `mode` must greater than or equal to `left` and less than or equal to `right`\n",
    "* `right` - This is the upper limit\n",
    " * Floats and array-like floats are accepted for `right`\n",
    " * `right` must be greater than `left`\n",
    "* `size` - The size of the returned array\n",
    "  *The size parameter is optional. It accepts integers and tuples of integers"
   ]
  },
  {
   "cell_type": "code",
   "execution_count": null,
   "metadata": {},
   "outputs": [],
   "source": [
    "# Here we are looking for a random array with a lower limit of 10 an upper limit of 100\n",
    "# and 50 being the number that appears most frequently\n",
    "\n",
    "Tria_1 = np.random.triangular(10, 50, 100) \n",
    "print (Tria_1)"
   ]
  },
  {
   "cell_type": "code",
   "execution_count": null,
   "metadata": {},
   "outputs": [],
   "source": [
    "# Here we are looking for a random array with a lower limit of 10 an upper limit of 100\n",
    "# and 50 being the number that appears most frequently, in 100000 instances\n",
    "# and for the out to be presented on a triangular distribution plot\n",
    "\n",
    "sns.distplot(np.random.triangular(1, 50, 1000, 100000), hist=True, kde=False)\n",
    "\n",
    "plt.show()"
   ]
  },
  {
   "cell_type": "markdown",
   "metadata": {},
   "source": [
    "### Seeds<a class=\"anchor\" id=\"seeds\"></a>"
   ]
  },
  {
   "cell_type": "markdown",
   "metadata": {},
   "source": [
    "The seeds are used to initialise a pseudorandom number generator. \n",
    "Seeds, or seed values, are used as the starting point for generating random numbers.\n",
    "\n",
    "Being able to set the seed value means that we can start a random number generation from a set point. In this way, the code it is used in is repeatable. The seed value saves the start point for the generator and it will produce the same output. This is useful for testing, modelling and verification. \n",
    "\n",
    "#### random.seed()<a class=\"anchor\" id=\"random.seed\"></a>\n",
    "\n",
    "In NumPy, we can see this when using the legacy function `random.seed()` which works with other `numpy.random` functions. \n",
    "\n",
    "`np.random.seed(seed=None)`\n",
    "\n",
    "* `seed` - This is the starting point for your random number generation\n",
    "  * Ints or 1-d array_like are accepted. Though floats are truncated to integers.\n",
    "  * The seed is optional. When the seed isn't defined the current system time is used.\n",
    "  \n"
   ]
  },
  {
   "cell_type": "code",
   "execution_count": null,
   "metadata": {},
   "outputs": [],
   "source": [
    "np.random.seed(3) # Here we set the seed value as 3\n",
    "Seed_1 = np.random.randint(100) # Here we set the range of values for the integer to be selected from\n",
    "                                    # This method returns and integers between 0 and 99\n",
    "print (\"Here is your seeded output: % s\" % (Seed_1))"
   ]
  },
  {
   "cell_type": "markdown",
   "metadata": {},
   "source": [
    "If we run the above code again we get the same output as the seed is determining the start point for number generation within the `randint` function."
   ]
  },
  {
   "cell_type": "code",
   "execution_count": null,
   "metadata": {},
   "outputs": [],
   "source": [
    "np.random.seed(3) # Here we set the seed value as 3\n",
    "Seed_1 = np.random.randint(100) # Here we set the range of values for the integer to be selected from\n",
    "                                    # This method returns and integers between 0 and 99\n",
    "print (\"Here is your seeded output: % s\" % (Seed_1))"
   ]
  },
  {
   "cell_type": "markdown",
   "metadata": {},
   "source": [
    "If we change the seed we get a different output."
   ]
  },
  {
   "cell_type": "code",
   "execution_count": null,
   "metadata": {},
   "outputs": [],
   "source": [
    "np.random.seed(5) # Here we set the seed value as 5\n",
    "Seed_2 = np.random.randint(100) # Here we set the range of values for the integer to be selected from\n",
    "                                    # This method returns and integers between 0 and 99\n",
    "print (\"Here is your seeded output: % s\" % (Seed_2))"
   ]
  },
  {
   "cell_type": "markdown",
   "metadata": {},
   "source": [
    "If we run the code again it will repeat the same output."
   ]
  },
  {
   "cell_type": "code",
   "execution_count": null,
   "metadata": {},
   "outputs": [],
   "source": [
    "np.random.seed(5) # Here we set the seed value as 5\n",
    "Seed_2 = np.random.randint(100) # Here we set the range of values for the integer to be selected from\n",
    "                                    # This method returns and integers between 0 and 99\n",
    "print (\"Here is your seeded output: % s\" % (Seed_2))"
   ]
  },
  {
   "cell_type": "markdown",
   "metadata": {},
   "source": [
    "This also works for two seed values in the similar lines of of code."
   ]
  },
  {
   "cell_type": "code",
   "execution_count": null,
   "metadata": {},
   "outputs": [],
   "source": [
    "np.random.seed(3) # Here we set the seed value as 3\n",
    "Seed_3 = np.random.randint(4) # Here we set the range of values for the integer to be selected from\n",
    "                                    # This method returns and integers between 0 and 4\n",
    "\n",
    "np.random.seed(5) # Here we set the seed value as 5\n",
    "Seed_4 = np.random.randint(4) # Here we set the range of values for the integer to be selected from\n",
    "                                    # This method returns and integers between 0 and 4\n",
    "\n",
    "np.random.seed(3) # Here we set the seed value as 3\n",
    "Seed_5 = np.random.rand(4) # Here we set the range of values for the integer to be selected from\n",
    "                                    # This method returns and integers between 0 and 4\n",
    "\n",
    "np.random.seed(5) # Here we set the seed value as 5\n",
    "Seed_6 = np.random.rand(4) # Here we set the range of values for the integer to be selected from\n",
    "                                    # This method returns and integers between 0 and 4\n",
    "\n",
    "print (\"Here is your seeded output: % s\" % (Seed_3))\n",
    "print (\"Here is your seeded output: % s\" % (Seed_4))\n",
    "print (\"Here is your seeded output: % s\" % (Seed_5))\n",
    "print (\"Here is your seeded output: % s\" % (Seed_6))"
   ]
  },
  {
   "cell_type": "markdown",
   "metadata": {},
   "source": [
    "As mentioned, when the seed isn't provided the current system time is used"
   ]
  },
  {
   "cell_type": "code",
   "execution_count": null,
   "metadata": {},
   "outputs": [],
   "source": [
    "np.random.seed() # Here the seed is undefined\n",
    "Seed_7 = np.random.randint(100) # Here we set the range of values for the integer to be selected from\n",
    "                                    # This method returns and integers between 0 and 99\n",
    "print (\"Here is your seeded output: % s\" % (Seed_7))"
   ]
  },
  {
   "cell_type": "markdown",
   "metadata": {},
   "source": [
    "Because of this multiple seeded values in the same code will return different outputs as the system time will have changed as each line is run"
   ]
  },
  {
   "cell_type": "code",
   "execution_count": null,
   "metadata": {},
   "outputs": [],
   "source": [
    "np.random.seed() # Here we set the seed value as 3\n",
    "Seed_8 = np.random.rand(4) # Here we set the range of values for the integer to be selected from\n",
    "                                    # This method returns and integers between 0 and 4\n",
    "\n",
    "np.random.seed() # Here we set the seed value as 5\n",
    "Seed_9 = np.random.rand(4) # Here we set the range of values for the integer to be selected from\n",
    "                                    # This method returns and integers between 0 and 4\n",
    "\n",
    "print (\"Here is your seeded output: % s\" % (Seed_8))\n",
    "print (\"Here is your seeded output: % s\" % (Seed_9))"
   ]
  },
  {
   "cell_type": "markdown",
   "metadata": {},
   "source": [
    "#### Seeds and Permutations<a class=\"anchor\" id=\"seed.permutation\"></a>\n",
    "\n",
    "Seed values work in conjunction with other `numpy.random` function.\n",
    "\n",
    "Here we see how it works with `shuffle`. First here's a reminder of how `shuffle` works"
   ]
  },
  {
   "cell_type": "code",
   "execution_count": null,
   "metadata": {},
   "outputs": [],
   "source": [
    "Shuf_1 = np.arange(10) \n",
    "print (\"Here is the array you requested: % s\" % (Shuf_1))\n",
    "\n",
    "np.random.shuffle(Shuf_1) # Here we ask for the array to be shuffled\n",
    "print (\"Here is your shuffled array: % s\" % (Shuf_1))"
   ]
  },
  {
   "cell_type": "markdown",
   "metadata": {},
   "source": [
    "If we repeat the call for the array to be shuffled we get a different output."
   ]
  },
  {
   "cell_type": "code",
   "execution_count": null,
   "metadata": {},
   "outputs": [],
   "source": [
    "Shuf_1 = np.arange(10) # This creates a 1-dimensional array of integers up to the value of 10\n",
    "print (\"Here is the array you requested: % s\" % (Shuf_1))\n",
    "\n",
    "np.random.shuffle(Shuf_1) # Here we ask for the array to be shuffled\n",
    "print (\"Here is your shuffled array: % s\" % (Shuf_1))"
   ]
  },
  {
   "cell_type": "markdown",
   "metadata": {},
   "source": [
    "However, if we set a seed value we get the same output when we repeat the call."
   ]
  },
  {
   "cell_type": "code",
   "execution_count": null,
   "metadata": {},
   "outputs": [],
   "source": [
    "Shuf_2 = np.arange(10) # This creates a 1-dimensional array of integers up to the value of 10\n",
    "print (\"Here is the array you requested: % s\" % (Shuf_2))\n",
    "np.random.shuffle(Shuf_2) # Here we ask for the array to be shuffled\n",
    "print (\"Here is your shuffled array: % s\" % (Shuf_2))\n",
    "\n",
    "Shuf_3 = np.arange(10) # This creates a 1-dimensional array of integers up to the value of 10\n",
    "np.random.seed (5) # Here we set the seed value as 5\n",
    "np.random.shuffle(Shuf_3) # Here we ask for the seeded array to be shuffled\n",
    "print (\"Here is the seeded shuffled array you requested: % s\" % (Shuf_3))\n",
    "\n",
    "Shuf_4 = np.arange(10) # This creates a 1-dimensional array of integers up to the value of 10\n",
    "np.random.seed (5) # Here we set the seed value as 5\n",
    "np.random.shuffle(Shuf_4) # Here we ask for the seeded array to be shuffled\n",
    "print (\"Here is the seeded shuffled array you requested repeated: % s\" % (Shuf_4))"
   ]
  },
  {
   "cell_type": "markdown",
   "metadata": {},
   "source": [
    "#### Seeds and Distributions<a class=\"anchor\" id=\"seed.distributions\"></a>\n",
    "\n",
    "Seeds also work with distributions. Here's a reminder of how `normal` works"
   ]
  },
  {
   "cell_type": "code",
   "execution_count": null,
   "metadata": {},
   "outputs": [],
   "source": [
    "# Here we request an array of randomly generated numbers\n",
    "# with an average value of 1, a standard deviation from this of 2\n",
    "# and presented in 3 rows with 4 columns each\n",
    "\n",
    "Norm_1 = np.random.normal(loc=1, scale=2, size=(3, 4))\n",
    "\n",
    "print(Norm_1)"
   ]
  },
  {
   "cell_type": "markdown",
   "metadata": {},
   "source": [
    "If we repeat this code, we get a different output."
   ]
  },
  {
   "cell_type": "code",
   "execution_count": null,
   "metadata": {},
   "outputs": [],
   "source": [
    "# Here we request an array of randomly generated numbers\n",
    "# with an average value of 1, a standard deviation from this of 2\n",
    "# and presented in 3 rows with 4 columns each\n",
    "\n",
    "Norm_1 = np.random.normal(loc=1, scale=2, size=(3, 4))\n",
    "\n",
    "print(Norm_1)"
   ]
  },
  {
   "cell_type": "markdown",
   "metadata": {},
   "source": [
    "However, if we set a seed value, we get the same output when we repeat the call."
   ]
  },
  {
   "cell_type": "code",
   "execution_count": null,
   "metadata": {
    "scrolled": true
   },
   "outputs": [],
   "source": [
    "# Here we request an array of randomly generated numbers\n",
    "# with an average value of 1, a standard deviation from this of 2\n",
    "# and presented in 3 rows with 4 columns each\n",
    "\n",
    "Norm_2 = np.random.normal(loc=1, scale=2, size=(3, 4))\n",
    "print (\"Here is normal distribution you requested:\\n % s\\n\" % (Norm_2))\n",
    "Norm_3 = np.random.normal(loc=1, scale=2, size=(3, 4))\n",
    "print (\"Here is normal distribution you requested repeated:\\n % s\\n\" % (Norm_3))\n",
    "\n",
    "np.random.seed (5) # Here we set the seed value as 5\n",
    "Norm_4 = np.random.normal(loc=1, scale=2, size=(3, 4))\n",
    "print (\"Here is seeded normal distribution you requested:\\n % s\\n\" % (Norm_4))\n",
    "\n",
    "np.random.seed (5) # Here we set the seed value as 5\n",
    "Norm_5 = np.random.normal(loc=1, scale=2, size=(3, 4))\n",
    "print (\"Here is seeded normal distribution you requested repeated:\\n % s\\n\" % (Norm_5))"
   ]
  },
  {
   "cell_type": "markdown",
   "metadata": {},
   "source": [
    "We can see that where the seed is set, the same random numbers are generated. Having a repeatable output allows for code to be shared and tested by others."
   ]
  },
  {
   "cell_type": "markdown",
   "metadata": {},
   "source": [
    "### References <a class=\"anchor\" id=\"references\"></a>"
   ]
  },
  {
   "cell_type": "markdown",
   "metadata": {},
   "source": [
    "<div class=\"container\">\n",
    "  <h2>References</h2>\n",
    "  <div class=\"panel panel-default\">\n",
    "    <div class=\"panel-body\">1.\tRandom sampling (numpy.random), Available at: https://numpy.org/doc/stable/reference/random/\n",
    "2.\tMcKinney, W. (2018) Python for Data Analysis : data wrangling with pandas, NumPy, and IPython, 2 edn., Sebastopol, CA: O’Reilly Media, Inc. \n",
    "3.\tNumPy Quick Guide, Available at: https://www.tutorialspoint.com/numpy/numpy_quick_guide.htm \\n \n",
    "4.\tPython NumPy Tutorial, Available at: https://www.datacamp.com/community/tutorials/python-numpy-tutorial \\n\n",
    "5.\tLinked Lists vs. Arrays, Available at: https://towardsdatascience.com/linked-lists-vs-arrays-78746f983267\\ \\n\n",
    "6.\tMcKinney, W. (2018) Python for Data Analysis : data wrangling with pandas, NumPy, and IPython, 2 edn., Sebastopol, CA: O’Reilly Media, Inc. \\n \n",
    "7.\tNumpy Essentials for Data Science, Available at: https://towardsdatascience.com/numpy-essentials-for-data-science-25dc39fae39 \\n\n",
    "8.\tNumPy: the absolute basics for beginners, Available at: https://numpy.org/devdocs/user/absolute_beginners.html \\n  \n",
    "9.\tInstalling NumPy, Available at: https://numpy.org/install/ \\n  \n",
    "10.\tAnaconda Installation, Available at: https://docs.anaconda.com/anaconda/install/ \\n  \n",
    "11.\tInstalling NumPy, Available at: https://numpy.org/install/ \\n   \n",
    "12.\tHow To Install NumPy, Available at: https://phoenixnap.com/kb/install-numpy \\n\n",
    "13.\tRandom Numbers in NumPy, Available at: https://www.w3schools.com/python/numpy_random.asp \\n\n",
    "14.\tIntroduction to Randomness and Random Numbers, Available at: https://www.random.org/randomness/ \\n \n",
    "15.\tRandom Number Generator: How Do Computers Generate Random Numbers?, Available at: https://www.freecodecamp.org/news/random-number-generator/ \\n\n",
    "16.\tRandom Numbers in NumPy, Available at: https://www.w3schools.com/python/numpy_random.asp \\n\n",
    "17.\tWhen Science and Philosophy meet Randomness, Determinism, and Chaos, Available at: https://towardsdatascience.com/when-science-and-philosophy-meet-randomness-determinism-and-chaos-abdb825c3114 \\n\n",
    "18.\tMachine Learning Mastery, How to Generate Random Numbers in Python , Available at: https://machinelearningmastery.com/how-to-generate-random-numbers-in-python/ \\n   \n",
    "19.\trandom — Generate pseudo-random numbers, Available at: https://docs.python.org/3/library/random.html \\n  \n",
    "20.\tCan a computer generate a truly random number?, Available at: https://engineering.mit.edu/engage/ask-an-engineer/can-a-computer-generate-a-truly-random-number/ \\n  \n",
    "21.\tRandom Number Generator Using Numpy, Available at: https://www.datacamp.com/community/tutorials/numpy-random \\n\n",
    "22.\tMachine Learning Mastery, How to Generate Random Numbers in Python , Available at: https://machinelearningmastery.com/how-to-generate-random-numbers-in-python/ \\n  \n",
    "23.\tRandom Generator, Available at: https://numpy.org/doc/stable/reference/random/generator.html \\n  \n",
    "24.\tMachine Learning Mastery, How to Generate Random Numbers in Python , Available at: https://machinelearningmastery.com/how-to-generate-random-numbers-in-python/ \\n   \n",
    "25.\tRandom Numbers in NumPy, Available at: https://www.w3schools.com/python/numpy_random.asp \\n \n",
    "26.\tPython Random Module to Generate random Data, Available at: https://pynative.com/python-random-module/ \\n \n",
    "27.\tMachine Learning Mastery, How to Generate Random Numbers in Python , Available at: https://machinelearningmastery.com/how-to-generate-random-numbers-in-python/ \\n  \n",
    "28.\tnumpy.random.Generator.integers, Available at: https://numpy.org/doc/stable/reference/random/generated/numpy.random.Generator.integers.html \\n     \n",
    "29.\tnumpy.random.Generator.integers, Available at: https://numpy.org/doc/stable/reference/random/generated/numpy.random.Generator.integers.html \\n     \n",
    "30.\tMcKinney, W. (2018) Python for Data Analysis : data wrangling with pandas, NumPy, and IPython, 2 edn., Sebastopol, CA: O’Reilly Media, Inc. \\n \n",
    "31.\tnumpy.random.Generator.integers, Available at: https://numpy.org/doc/stable/reference/random/generated/numpy.random.Generator.integers.html \\n     \n",
    "</div>\n",
    "  </div>\n",
    "</div>\n",
    "\n",
    "</body>\n",
    "</html>"
   ]
  },
  {
   "cell_type": "code",
   "execution_count": null,
   "metadata": {},
   "outputs": [],
   "source": []
  }
 ],
 "metadata": {
  "kernelspec": {
   "display_name": "Python 3",
   "language": "python",
   "name": "python3"
  },
  "language_info": {
   "codemirror_mode": {
    "name": "ipython",
    "version": 3
   },
   "file_extension": ".py",
   "mimetype": "text/x-python",
   "name": "python",
   "nbconvert_exporter": "python",
   "pygments_lexer": "ipython3",
   "version": "3.8.3"
  }
 },
 "nbformat": 4,
 "nbformat_minor": 4
}
