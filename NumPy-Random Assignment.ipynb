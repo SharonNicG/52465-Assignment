{
 "cells": [
  {
   "cell_type": "markdown",
   "metadata": {},
   "source": [
    "# NumPy Random \n",
    "> Assignment for Module 52465 Programming for Data Analysis\n",
    "\n",
    "---\n",
    "## Table of Contents\n",
    "\n",
    "- [Introduction](#introduction)\n",
    "- [NumPy](#numpy)\n",
    "- [Installing NumPy](#installing)\n",
    "- [numpy.random](#numpy.random)\n",
    " - [Simple Random Data](#simple)\n",
    "     - [rand](#rand)\n",
    "     - [randint](#randint)\n",
    "     - [choice](#choice)\n",
    " - [Permutations](#Permutations)\n",
    "     - [shuffle()](#shuffle)\n",
    "     - [permutation()](#permutation)\n",
    " - [Distributions](#Distributions)\n",
    "   - [Normal Distribution](#normal)\n",
    "   - [Binomial Distribution](#binomial)\n",
    "   - [Poisson Distribution](#poisson)\n",
    "   - [Uniform Distribution](#uniform)\n",
    "\n",
    "---\n",
    "### Introduction<a class=\"anchor\" id=\"introduction\"></a>\n",
    "\n",
    "This project sets out to examine the `numpy.random` package and some of its distributions, through a review of documentation on the package and analysis of data sets using its operations. \n",
    "\n",
    "---\n",
    "### NumPy<a class=\"anchor\" id=\"numpy\"></a>\n",
    "\n",
    "NumPy, short for Numerical Python, is a principal library in Python. Created in 2005, by Travis Oliphant, this open-source software is used for mathematical, scientific, engineering and data science programming. \n",
    "\n",
    "The NumPy library provides tools to work efficiently and effectively with large quantities of numerical data.\n",
    "To work with a collection of elements (an array) in Python we use lists. Lists are effective when working with varying types and small amounts of data but how Python stores lists are slow and resource-heavy.\n",
    "\n",
    "A Python list is an array of signposts pointing to a location that has information about an element. This can be sufficient when working with smaller quantities or varying types of data but is a slow and resource-heavy process for larger or complex work.\n",
    "\n",
    "#### Why use NumPy over Python Lists?\n",
    "NumPy’s ndarrays are homogenous (of a single type) n-dimensional (vectorised) array objects that are stored in one continuous place they can be accessed, processed and manipulated much more efficiently. Additionally, the NumPy library provides powerful multidimensional array and matrix data structures and a large collection of high-level mathematical functions to operate on them. \n",
    "\n",
    "The NumPy library also offers classes and functions to test linear algebra operations, Fourier series and random number generation. The library is used extensively when working with numerical data in Python and other Python libraries such as Pandas, Matplotlib and SciPy are built on it. \n",
    "\n",
    "## Installing NumPy<a class=\"anchor\" id=\"installing\"></a>\n",
    "\n",
    "The only prerequisite for NumPy is Python. Installation of the Anaconda Distribution is an easy way to obtain this as it includes Python, NumPy, and other commonly used packages. Full details of which are available here: https://docs.anaconda.com/anaconda/install/\n",
    "\n",
    "NumPy can also be installed with conda, with pip, or with a package manager on macOS and Linux. \n",
    "\n",
    "#### Installing with conda\n",
    "If you use `conda` you can install it with\n",
    "`conda install numpy`\n",
    "\n",
    "#### Installing via Pip\n",
    "If you use `pip` you can install with \n",
    "`pip install numpy`\n",
    "\n",
    "#### Install System-wide via a Package Manager\n",
    "The NumPy documentation offers detailed guides on how to install NumPy for Linux and Mac users.\n",
    "This information is available here: \n",
    "https://numpy.org/install/\n",
    "\n",
    "#### Import of NumPy Library"
   ]
  },
  {
   "cell_type": "code",
   "execution_count": 1,
   "metadata": {},
   "outputs": [],
   "source": [
    "# This imports the libraries (NumPy, MatPlotLib and Seaborn) that will be used in this notebook\n",
    "# The last line is a magic function to ensure plots are shown\n",
    "import numpy as np\n",
    "import matplotlib.pyplot as plt\n",
    "import seaborn as sns\n",
    "%matplotlib inline "
   ]
  },
  {
   "cell_type": "markdown",
   "metadata": {},
   "source": [
    "### numpy.random<a class=\"anchor\" id=\"numpy.random\"></a>\n",
    "Random numbers (numbers that cannot be logically predicted) have many uses such as the generation of encryption keys, to prevent selection bias in experimentation and the simulation of complex models and studies.\n",
    "\n",
    "To generate a truly random number a source of true randomness is needed. Often this is a physical input like a keystroke or a mouse click. In programming, algorithms are used to generate random numbers. Algorithms adhere to a set of rules to generate random numbers. While these numbers appear close to truly random numbers they are generated through a deterministic process (where all the data required to determine the outcome is known in advance) making them pseudorandom. \n",
    "\n",
    "The standard Python library offers the module random that includes functions to generate random numbers with a few basic distributions. In contrast to this, the NumPy library offers the `numpy.random` module which allows for the generation of arrays of random numbers, using a wide selection of distributions and across different intervals.\n",
    "\n",
    "NumPy’s random sampling routines can be classified in four ways:\n",
    "- Simple Random Data\n",
    "- Permutations\n",
    "- Distributions\n",
    "- Random Generator \n",
    "\n",
    "#### Simple Random Data<a class=\"anchor\" id=\"simple\"></a>\n",
    "NumPy’s Simple Random Data Routines produce randomly generated numbers as defined by the user.\n",
    "\n",
    "##### Randint<a class=\"anchor\" id=\"randint\"></a>\n",
    "This could be generating a single random integer using the `randint()`function:"
   ]
  },
  {
   "cell_type": "code",
   "execution_count": 2,
   "metadata": {
    "scrolled": true
   },
   "outputs": [
    {
     "name": "stdout",
     "output_type": "stream",
     "text": [
      "46\n"
     ]
    }
   ],
   "source": [
    "# Here we set the range of values for the integer to be selected from\n",
    "# This method returns and integeer between 0 and 99\n",
    "x = np.random.randint(100)  \n",
    "\n",
    "print(x)"
   ]
  },
  {
   "cell_type": "markdown",
   "metadata": {},
   "source": [
    "This can be tested by re-running the above code or by changing the range of values to generate the random integer from:"
   ]
  },
  {
   "cell_type": "code",
   "execution_count": 16,
   "metadata": {},
   "outputs": [
    {
     "name": "stdout",
     "output_type": "stream",
     "text": [
      "710\n"
     ]
    }
   ],
   "source": [
    "# Here we set the range of values for the integer to be selected from\n",
    "# This method returns and integeer between 0 and 999\n",
    "x = np.random.randint(1000)\n",
    "\n",
    "print(x)"
   ]
  },
  {
   "cell_type": "markdown",
   "metadata": {},
   "source": [
    "Or used to generate a random float using `rand()`:"
   ]
  },
  {
   "cell_type": "code",
   "execution_count": 15,
   "metadata": {},
   "outputs": [
    {
     "name": "stdout",
     "output_type": "stream",
     "text": [
      "[0.62917596 0.18243366 0.09182308 0.01549415 0.20476492]\n"
     ]
    }
   ],
   "source": [
    "# Here we set the number of float values to be returned as 5\n",
    "# As no range of values is set the module will return float values between 0.0 and 1.0 \n",
    "# but not including 1.0\n",
    "x = np.random.rand(5)\n",
    "print (x)"
   ]
  },
  {
   "cell_type": "markdown",
   "metadata": {},
   "source": [
    "The `randint()` function can also take the input of 2 integers as a range of values and returns an output of a random integer value within the range provided:"
   ]
  },
  {
   "cell_type": "code",
   "execution_count": 3,
   "metadata": {},
   "outputs": [
    {
     "name": "stdout",
     "output_type": "stream",
     "text": [
      "Random number between 0 and 10 is 7\n"
     ]
    }
   ],
   "source": [
    "# Here we set the range of values for the integer to be selected from\n",
    "# Including 0 but excluding 10\n",
    "Random_1 = np.random.randint(0, 10)\n",
    "\n",
    "print(\"Random number between 0 and 10 is % s\" % (Random_1))"
   ]
  },
  {
   "cell_type": "markdown",
   "metadata": {},
   "source": [
    "Whether they are poistive or negative:"
   ]
  },
  {
   "cell_type": "code",
   "execution_count": 19,
   "metadata": {},
   "outputs": [
    {
     "name": "stdout",
     "output_type": "stream",
     "text": [
      "Random number between -100 and -10 is -71\n"
     ]
    }
   ],
   "source": [
    "# Here we set a negative range of values for the integer to be selected from\n",
    "Random_2 = np.random.randint(-100, -10)\n",
    "\n",
    "print(\"Random number between -100 and -10 is % s\" % (Random_2))"
   ]
  },
  {
   "cell_type": "markdown",
   "metadata": {},
   "source": [
    "Characters/String can't be used as parameters in the `randint()` function:"
   ]
  },
  {
   "cell_type": "code",
   "execution_count": 18,
   "metadata": {
    "scrolled": true
   },
   "outputs": [
    {
     "ename": "NameError",
     "evalue": "name 'a' is not defined",
     "output_type": "error",
     "traceback": [
      "\u001b[1;31m---------------------------------------------------------------------------\u001b[0m",
      "\u001b[1;31mNameError\u001b[0m                                 Traceback (most recent call last)",
      "\u001b[1;32m<ipython-input-18-17bb9da6a103>\u001b[0m in \u001b[0;36m<module>\u001b[1;34m\u001b[0m\n\u001b[0;32m      1\u001b[0m \u001b[1;31m# Here we try to pass characters/strings to the function\u001b[0m\u001b[1;33m\u001b[0m\u001b[1;33m\u001b[0m\u001b[1;33m\u001b[0m\u001b[0m\n\u001b[1;32m----> 2\u001b[1;33m \u001b[0mRandom_3\u001b[0m \u001b[1;33m=\u001b[0m \u001b[0mnp\u001b[0m\u001b[1;33m.\u001b[0m\u001b[0mrandom\u001b[0m\u001b[1;33m.\u001b[0m\u001b[0mrandint\u001b[0m\u001b[1;33m(\u001b[0m\u001b[0ma\u001b[0m\u001b[1;33m,\u001b[0m \u001b[0mz\u001b[0m\u001b[1;33m)\u001b[0m\u001b[1;33m\u001b[0m\u001b[1;33m\u001b[0m\u001b[0m\n\u001b[0m\u001b[0;32m      3\u001b[0m \u001b[0mprint\u001b[0m\u001b[1;33m(\u001b[0m\u001b[1;34m\"Random letter between a and z is % s\"\u001b[0m \u001b[1;33m%\u001b[0m \u001b[1;33m(\u001b[0m\u001b[0mRandom_3\u001b[0m\u001b[1;33m)\u001b[0m\u001b[1;33m)\u001b[0m\u001b[1;33m\u001b[0m\u001b[1;33m\u001b[0m\u001b[0m\n",
      "\u001b[1;31mNameError\u001b[0m: name 'a' is not defined"
     ]
    }
   ],
   "source": [
    "# Here we try to pass characters/strings to the function\n",
    "Random_3 = np.random.randint(a, z) \n",
    "print(\"Random letter between a and z is % s\" % (Random_3)) "
   ]
  },
  {
   "cell_type": "markdown",
   "metadata": {},
   "source": [
    "Neither can floating point values:"
   ]
  },
  {
   "cell_type": "code",
   "execution_count": 20,
   "metadata": {},
   "outputs": [
    {
     "ename": "ValueError",
     "evalue": "low >= high",
     "output_type": "error",
     "traceback": [
      "\u001b[1;31m---------------------------------------------------------------------------\u001b[0m",
      "\u001b[1;31mValueError\u001b[0m                                Traceback (most recent call last)",
      "\u001b[1;32m<ipython-input-20-dc3a0473181c>\u001b[0m in \u001b[0;36m<module>\u001b[1;34m\u001b[0m\n\u001b[0;32m      1\u001b[0m \u001b[1;31m# Here we try to pass floats to the function\u001b[0m\u001b[1;33m\u001b[0m\u001b[1;33m\u001b[0m\u001b[1;33m\u001b[0m\u001b[0m\n\u001b[1;32m----> 2\u001b[1;33m \u001b[0mRandom_4\u001b[0m \u001b[1;33m=\u001b[0m \u001b[0mnp\u001b[0m\u001b[1;33m.\u001b[0m\u001b[0mrandom\u001b[0m\u001b[1;33m.\u001b[0m\u001b[0mrandint\u001b[0m\u001b[1;33m(\u001b[0m\u001b[1;36m1.32\u001b[0m\u001b[1;33m,\u001b[0m \u001b[1;36m1.40\u001b[0m\u001b[1;33m)\u001b[0m\u001b[1;33m\u001b[0m\u001b[1;33m\u001b[0m\u001b[0m\n\u001b[0m\u001b[0;32m      3\u001b[0m \u001b[0mprint\u001b[0m\u001b[1;33m(\u001b[0m\u001b[1;34m\"Random letter between 1.32 and 1.40 is % s\"\u001b[0m \u001b[1;33m%\u001b[0m \u001b[1;33m(\u001b[0m\u001b[0mRandom_4\u001b[0m\u001b[1;33m)\u001b[0m\u001b[1;33m)\u001b[0m\u001b[1;33m\u001b[0m\u001b[1;33m\u001b[0m\u001b[0m\n",
      "\u001b[1;32mmtrand.pyx\u001b[0m in \u001b[0;36mnumpy.random.mtrand.RandomState.randint\u001b[1;34m()\u001b[0m\n",
      "\u001b[1;32m_bounded_integers.pyx\u001b[0m in \u001b[0;36mnumpy.random._bounded_integers._rand_int32\u001b[1;34m()\u001b[0m\n",
      "\u001b[1;31mValueError\u001b[0m: low >= high"
     ]
    }
   ],
   "source": [
    "# Here we try to pass floats to the function\n",
    "Random_4 = np.random.randint(1.32, 1.40) \n",
    "print(\"Random letter between 1.32 and 1.40 is % s\" % (Random_4)) "
   ]
  },
  {
   "cell_type": "markdown",
   "metadata": {},
   "source": [
    "Having established that `randint()` can generate single random integers and floats let’s use this information to look at arrays.\n",
    "\n",
    "By including a `size` parameter in the `randint()` function the size of the array can be specified.\n",
    "This could be a 1-dimensional array:"
   ]
  },
  {
   "cell_type": "code",
   "execution_count": 11,
   "metadata": {},
   "outputs": [
    {
     "name": "stdout",
     "output_type": "stream",
     "text": [
      "Here are the random integars you have requested [24 86 62 76 59]\n"
     ]
    }
   ],
   "source": [
    "# Here we are requesting 5 random integers between 0 and 100\n",
    "Random_5 = np.random.randint(100, size=(5))\n",
    "\n",
    "print(\"Here are the random integars you have requested % s\" % (Random_5))"
   ]
  },
  {
   "cell_type": "markdown",
   "metadata": {},
   "source": [
    "Or multidimensional array:"
   ]
  },
  {
   "cell_type": "code",
   "execution_count": 13,
   "metadata": {},
   "outputs": [
    {
     "name": "stdout",
     "output_type": "stream",
     "text": [
      "[[56 37  1 20  7 83 56 74  3 31]\n",
      " [98 49 95 57 78 94 83 47 72 14]\n",
      " [78 33  5 49 12 62 96 86 84 40]\n",
      " [17 21 95  9 53 64 45 58  4 89]]\n"
     ]
    }
   ],
   "source": [
    "# Here we are requesting random integers between 0 and 100\n",
    "# To be presented in 4 rows each containing 10 integers\n",
    "Random_7 = np.random.randint(100, size=(4, 10)) \n",
    "\n",
    "print (Random_7)"
   ]
  },
  {
   "cell_type": "markdown",
   "metadata": {},
   "source": [
    "##### rand<a class=\"anchor\" id=\"rand\"></a>\n",
    "The `rand` function allows for the creation of arrays using floats. Similarly, to the `randint` function, the inclusion of a size parameter determines the shape of the array. Again this can be a 1-dimensional array:"
   ]
  },
  {
   "cell_type": "code",
   "execution_count": 21,
   "metadata": {},
   "outputs": [
    {
     "name": "stdout",
     "output_type": "stream",
     "text": [
      "Here are the random floats you have requested [0.16181886 0.9721993  0.02133403 0.94793662 0.25538618]\n"
     ]
    }
   ],
   "source": [
    "# Here we are requesting 5 random floats in a 1-dimensional array\n",
    "Random_8 = np.random.rand(5)\n",
    "\n",
    "print(\"Here are the random floats you have requested % s\" % (Random_8))"
   ]
  },
  {
   "cell_type": "markdown",
   "metadata": {},
   "source": [
    "Or a multidimensional array:"
   ]
  },
  {
   "cell_type": "code",
   "execution_count": 5,
   "metadata": {},
   "outputs": [
    {
     "name": "stdout",
     "output_type": "stream",
     "text": [
      "[[[7.80389849e-01 2.28110968e-01]\n",
      "  [1.74279386e-01 7.28056103e-02]\n",
      "  [7.00471238e-01 5.80011620e-01]]\n",
      "\n",
      " [[9.91115542e-01 3.83409600e-04]\n",
      "  [8.09838220e-01 4.79039102e-01]\n",
      "  [5.93234762e-01 9.68820952e-01]]\n",
      "\n",
      " [[5.96383022e-02 9.49011856e-01]\n",
      "  [7.13131024e-01 5.60765107e-01]\n",
      "  [7.03413137e-01 4.31887926e-01]]]\n"
     ]
    }
   ],
   "source": [
    "# Here we are requesting 5 random floats in a multidimensional array\n",
    "Random_9 = np.random.rand(3, 3, 2)\n",
    "\n",
    "print((Random_9))"
   ]
  },
  {
   "cell_type": "markdown",
   "metadata": {},
   "source": [
    "##### choice<a class=\"anchor\" id=\"choice\"></a>\n",
    "Where `rand` and `randint` can generate arrays from a range of specified values `choice` can generate an array from an array.\n",
    "\n",
    "`choice` can return a single random value from the provided array:"
   ]
  },
  {
   "cell_type": "code",
   "execution_count": 26,
   "metadata": {},
   "outputs": [
    {
     "name": "stdout",
     "output_type": "stream",
     "text": [
      "The randomly selected value from the array provided is: 7\n"
     ]
    }
   ],
   "source": [
    "# Here we are requesting that one of the presented values\n",
    "# from the provided array is randomly selected to be returned\n",
    "\n",
    "Choice_1 = np.random.choice([5, 6, 7, 8]) \n",
    "print(\"The randomly selected value from the array provided is: % s\" % (Choice_1))"
   ]
  },
  {
   "cell_type": "markdown",
   "metadata": {},
   "source": [
    "Or generate a multi-dimensional array consisting of the values from within the array provided:"
   ]
  },
  {
   "cell_type": "code",
   "execution_count": 27,
   "metadata": {},
   "outputs": [
    {
     "name": "stdout",
     "output_type": "stream",
     "text": [
      "[[6 8 7 5]\n",
      " [7 5 8 6]]\n"
     ]
    }
   ],
   "source": [
    "# Here we are requesting the return of an array\n",
    "# with the size and shape we have defined\n",
    "# from the provided array\n",
    "Choice_2 = np.random.choice([5, 6, 7, 8], size=(2, 4)) \n",
    "print (Choice_2)"
   ]
  },
  {
   "cell_type": "markdown",
   "metadata": {},
   "source": [
    "Other functions:\n",
    "\n",
    "- randn (Return a sample (or samples) from the “standard normal” distribution)\n",
    "- random_integers (Random integers of type np.int between low and high, inclusive)\n",
    "- random_sample (returns a random floating number within the range 0 to 1)\n",
    "- sample (Return random floats in the half-open interval 0.0, 1.0)\n",
    "- random (Return random floats in the half-open interval 0.0, 1.0)\n",
    "- ranf (Return random floats in the half-open interval 0.0, 1.0)\n",
    "- bytes (returns a defined number of random bytes)"
   ]
  },
  {
   "cell_type": "markdown",
   "metadata": {},
   "source": [
    "### Permutations<a class=\"anchor\" id=\"permutations\"></a>\n",
    "\n",
    "A permutation is an arrangement of elements in order (linear or sequential) or the re-arrangement of an ordered set of elements. NumPy offers 2 permutations `shuffle()` and `permutation()`.\n",
    "\n",
    "#### Shuffle<a class=\"anchor\" id=\"shuffle\"></a>\n",
    "`shuffle()` takes a given set of elements and re-arranges the order in which they are presented. Though it changes the order the elements are presented in it does not create a new list of elements."
   ]
  },
  {
   "cell_type": "code",
   "execution_count": 11,
   "metadata": {},
   "outputs": [
    {
     "name": "stdout",
     "output_type": "stream",
     "text": [
      "Here is the array you requested: [0 1 2 3 4 5 6 7 8 9]\n"
     ]
    }
   ],
   "source": [
    "# This creates a 1-dimensional arrany of integers up to the value of 10\n",
    "# for shuffle() to work with\n",
    "\n",
    "Array_1 = np.arange(10) \n",
    "print (\"Here is the array you requested: % s\" % (Array_1))"
   ]
  },
  {
   "cell_type": "code",
   "execution_count": 30,
   "metadata": {},
   "outputs": [
    {
     "name": "stdout",
     "output_type": "stream",
     "text": [
      "Here is your shuffled array: [5 8 3 2 6 1 9 7 0 4]\n"
     ]
    }
   ],
   "source": [
    "# Here we identify the array to be shuffled\n",
    "\n",
    "Array_1 = np.arange(10)\n",
    "np.random.shuffle(Array_1)\n",
    "print (\"Here is your shuffled array: % s\" % (Array_1))"
   ]
  },
  {
   "cell_type": "markdown",
   "metadata": {},
   "source": [
    "We can see that `shuffle()` has reordered the elements in the given array.\n",
    "\n",
    "For multidimensional arrays `shuffle()` only rearranges the given elements along the first axis:"
   ]
  },
  {
   "cell_type": "code",
   "execution_count": 22,
   "metadata": {},
   "outputs": [
    {
     "name": "stdout",
     "output_type": "stream",
     "text": [
      "[[ 0  1  2  3  4]\n",
      " [ 5  6  7  8  9]\n",
      " [10 11 12 13 14]]\n"
     ]
    }
   ],
   "source": [
    "Array_2 = np.arange(15).reshape(3,5) # This creates a multidimensional array with 3 rows\n",
    "                                        # each containing integers up to the value of 15\n",
    "                                        # for shuffle() to work with\n",
    "print (Array_2)"
   ]
  },
  {
   "cell_type": "code",
   "execution_count": 23,
   "metadata": {},
   "outputs": [
    {
     "name": "stdout",
     "output_type": "stream",
     "text": [
      "[[ 0  1  2  3  4]\n",
      " [ 5  6  7  8  9]\n",
      " [10 11 12 13 14]]\n"
     ]
    }
   ],
   "source": [
    "np.random.shuffle(Array_2) # Here we identify the array to be shuffled\n",
    "print (Array_2)"
   ]
  },
  {
   "cell_type": "markdown",
   "metadata": {},
   "source": [
    "We can see that the order of the rows of elements has changed (the first axis) but the order of the elements within the rows remains the same."
   ]
  },
  {
   "cell_type": "markdown",
   "metadata": {},
   "source": [
    "#### Permutation<a class=\"anchor\" id=\"permutation\"></a>\n",
    "\n",
    "The second style of permutation NumPy offers is `permutation()`.\n",
    "\n",
    "`permuation()` differs from `shuffle()` in two ways:\n",
    "1. Where `shuffle()` shuffles the array in place (effectively overwriting the original array) `permutation()` makes a copy of the array and returns a re-arranged array (leaving the original intact)."
   ]
  },
  {
   "cell_type": "code",
   "execution_count": 6,
   "metadata": {},
   "outputs": [
    {
     "name": "stdout",
     "output_type": "stream",
     "text": [
      "Here is the array you requested: [0 1 2 3 4 5 6 7 8 9]\n"
     ]
    }
   ],
   "source": [
    "Perm_1 = np.arange(10) # This creates a 1-dimensional arrany of integers up to the value of 10\n",
    "                            # for shuffle() to work with\n",
    "print (\"Here is the array you requested: % s\" % (Perm_1))"
   ]
  },
  {
   "cell_type": "code",
   "execution_count": 8,
   "metadata": {
    "scrolled": true
   },
   "outputs": [
    {
     "name": "stdout",
     "output_type": "stream",
     "text": [
      "Here is your permutated array: [3 7 4 6 5 1 2 0 8 9]\n"
     ]
    }
   ],
   "source": [
    "Perm_1 = np.arange(10)\n",
    "print(\"Here is your permutated array: % s\" % np.random.permutation(Perm_1))  # Here we identify the array for permutation() to work on"
   ]
  },
  {
   "cell_type": "code",
   "execution_count": 9,
   "metadata": {},
   "outputs": [
    {
     "name": "stdout",
     "output_type": "stream",
     "text": [
      "Here is your original array: [0 1 2 3 4 5 6 7 8 9]\n"
     ]
    }
   ],
   "source": [
    "# Here we call the original array again to see if it remains the same\n",
    "print (\"Here is your original array: % s\" % (Perm_1))"
   ]
  },
  {
   "cell_type": "markdown",
   "metadata": {},
   "source": [
    "We can see that the original array remains intact and that `permutation()` created a copy to work on and return.\n",
    "\n",
    "2. If an integer is passed to the `permutation()` function it will return a permutated range up to, but not including the given integer"
   ]
  },
  {
   "cell_type": "code",
   "execution_count": 11,
   "metadata": {},
   "outputs": [
    {
     "name": "stdout",
     "output_type": "stream",
     "text": [
      "Here is the array you requested: [3 7 8 1 2 6 9 4 0 5]\n"
     ]
    }
   ],
   "source": [
    "Perm_2 = np.random.permutation(10) # This creates a permutated range\n",
    "                                    # up to but not including the integer provided\n",
    "print (\"Here is the array you requested: % s\" % (Perm_2))"
   ]
  },
  {
   "cell_type": "code",
   "execution_count": 12,
   "metadata": {},
   "outputs": [
    {
     "name": "stdout",
     "output_type": "stream",
     "text": [
      "[[ 0  1  2  3  4]\n",
      " [ 5  6  7  8  9]\n",
      " [10 11 12 13 14]]\n"
     ]
    }
   ],
   "source": [
    "Perm_2 = np.arange(15).reshape(3,5) # This creates a multidimensional array with 3 rows\n",
    "                                        # each containing integers up to the value of 15\n",
    "                                        # for permutation() to work with\n",
    "print (Perm_2)"
   ]
  },
  {
   "cell_type": "code",
   "execution_count": 13,
   "metadata": {},
   "outputs": [
    {
     "data": {
      "text/plain": [
       "array([[ 0,  1,  2,  3,  4],\n",
       "       [10, 11, 12, 13, 14],\n",
       "       [ 5,  6,  7,  8,  9]])"
      ]
     },
     "execution_count": 13,
     "metadata": {},
     "output_type": "execute_result"
    }
   ],
   "source": [
    "np.random.permutation(Perm_2) # Here we identify the array for permutation() to work on"
   ]
  },
  {
   "cell_type": "markdown",
   "metadata": {},
   "source": [
    "We can see that as with `shuffle()`, `permutation()` only permutates multidimensional arrays along the first axis.\n",
    "And again we can call the original array to see that it is intact."
   ]
  },
  {
   "cell_type": "code",
   "execution_count": 14,
   "metadata": {},
   "outputs": [
    {
     "name": "stdout",
     "output_type": "stream",
     "text": [
      "[[ 0  1  2  3  4]\n",
      " [ 5  6  7  8  9]\n",
      " [10 11 12 13 14]]\n"
     ]
    }
   ],
   "source": [
    "print (Perm_2) # Here we call the original array again to see if it remains the same"
   ]
  },
  {
   "cell_type": "markdown",
   "metadata": {},
   "source": [
    "To see the distribution of the `permutation()` function we can plot a histogram"
   ]
  },
  {
   "cell_type": "code",
   "execution_count": 35,
   "metadata": {},
   "outputs": [
    {
     "name": "stdout",
     "output_type": "stream",
     "text": [
      "[1781 2223 6109 ... 9657 8451 7714]\n"
     ]
    },
    {
     "data": {
      "image/png": "[encoded data removed]",
      "text/plain": [
       "<Figure size 432x288 with 1 Axes>"
      ]
     },
     "metadata": {
      "needs_background": "light"
     },
     "output_type": "display_data"
    }
   ],
   "source": [
    "Array_6 = np.random.permutation(10000) # Here we identify the array for permutation() to work on\n",
    "print (Array_6)\n",
    "\n",
    "count, bins, ignored = plt.hist(Array_6, 14, density = True) # This sets the display properties \n",
    "                                                                # of the histogram\n",
    "plt.show()"
   ]
  },
  {
   "cell_type": "markdown",
   "metadata": {},
   "source": [
    "### Distributions<a class=\"anchor\" id=\"distributions\"></a>\n",
    "\n",
    "A probability distribution is a mathematical function that demonstrated the probability of a different outcome occurring.\n",
    "Probability functions are important for data analysis as they help us to understand how data is distributed within the defined range provided. Visualising the output of a distribution function is a helpful way of identifying the probability distribution at play."
   ]
  },
  {
   "cell_type": "markdown",
   "metadata": {},
   "source": [
    "#### Normal Distribution<a class=\"anchor\" id=\"normal\"></a>\n",
    "\n",
    "Many common tasks in data science and statistics involve working with data that is normally distributed. \n",
    "\n",
    "Normal Distribution, also known as Gaussian Distribution, is a continuous distribution that shows the greater frequency at the mean and less frequency further from the mean. When visualised the distribution resembles a bell and is colloquially referred to as a \"bell curve\".\n",
    "\n",
    "`np.random.normal(loc=0.0, scale=1.0, size=None)`\n",
    "\n",
    "* `loc` - The mean (or average) of distribution\n",
    " * If `loc` is not specified it defaults to 0.0\n",
    " * Floats and array-like floats are accepted for `loc`\n",
    "* `scale` - The standard deviation (how to spread out the data is) of the distribution\n",
    " * If `scale` is not specified it defaults to 1.0\n",
    " * Floats and array-like floats are accepted for `loc`\n",
    "* `size` - The size and scale of the returned array\n",
    " * The `size` parameter is optional. It accepts integers and tuples of integers"
   ]
  },
  {
   "cell_type": "code",
   "execution_count": 3,
   "metadata": {},
   "outputs": [
    {
     "name": "stdout",
     "output_type": "stream",
     "text": [
      "[[ 0.62146657 -1.31671234  2.01692891  4.0184929 ]\n",
      " [ 1.88507962 -0.7009733  -0.30822114  1.08096955]\n",
      " [ 0.23947962  1.12901259 -2.7299501   4.21418774]]\n"
     ]
    }
   ],
   "source": [
    "# Here we request an array of randomly generated numbers\n",
    "# with an avergae value of 1, a standard deviation from this of 2\n",
    "# and presented in 3 rows with 4 columns each\n",
    "Norm_1 = np.random.normal(loc=1, scale=2, size=(3, 4))\n",
    "\n",
    "print(Norm_1)"
   ]
  },
  {
   "cell_type": "code",
   "execution_count": 15,
   "metadata": {},
   "outputs": [
    {
     "data": {
      "image/png": "[encoded data removed]",
      "text/plain": [
       "<Figure size 432x288 with 1 Axes>"
      ]
     },
     "metadata": {
      "needs_background": "light"
     },
     "output_type": "display_data"
    }
   ],
   "source": [
    "# Here we request an array of 10,000 randomly generated numbers\n",
    "# with an avergae value of 1, a standard deviation from this of 2\n",
    "# to be presented on a normal distribution plot\n",
    "sns.distplot(np.random.normal(loc=1, scale=2, size=10000), hist=False, kde=True)\n",
    "\n",
    "plt.show()"
   ]
  },
  {
   "cell_type": "markdown",
   "metadata": {},
   "source": [
    "We can see that the data is normally distributed as it presents in a \"bell curve\"."
   ]
  },
  {
   "cell_type": "markdown",
   "metadata": {},
   "source": [
    "#### Binomial Distribution<a class=\"anchor\" id=\"binomial\"></a>\n",
    "\n",
    "Binomial distribution describes the outcome of discrete or binary events. That is events with only two possible outcomes. \n",
    "For example, success or failure or heads or tails. \n",
    "\n",
    "The distribution summarises the likelihood of each outcome occurring within a given set of parameters. \n",
    "\n",
    "`np.random.binomial(n, p[, size])`\n",
    "\n",
    "* `n` - The number of trials\n",
    " * Integers, array-like integers and floats are accepted for `n`. Though floats are truncated to integers\n",
    "* `p` - The probability of success for each trial\n",
    " * Floats and array-like floats are accepted for `p`\n",
    "* `size` - The size of the returned array\n",
    " * The `size` parameter is optional. It accepts integers and tuples of integers"
   ]
  },
  {
   "cell_type": "code",
   "execution_count": 4,
   "metadata": {},
   "outputs": [
    {
     "data": {
      "text/plain": [
       "array([5, 5, 7, ..., 7, 5, 5])"
      ]
     },
     "execution_count": 4,
     "metadata": {},
     "output_type": "execute_result"
    }
   ],
   "source": [
    "Bino_1 = np.random.binomial(10, 0.5, 10000) # Here we are looking for a binomial distribution \n",
    "                                            # with 10 trials and probability 0.5 each trial \n",
    "Bino_1"
   ]
  },
  {
   "cell_type": "code",
   "execution_count": 16,
   "metadata": {},
   "outputs": [
    {
     "data": {
      "image/png": "[encoded data removed]",
      "text/plain": [
       "<Figure size 432x288 with 1 Axes>"
      ]
     },
     "metadata": {
      "needs_background": "light"
     },
     "output_type": "display_data"
    }
   ],
   "source": [
    "# Here we are looking for a binomial distribution \n",
    "# with 10 trials and probability 0.5 for each trial\n",
    "# to be presneted as a binomial distribution plot\n",
    "\n",
    "sns.distplot(np.random.binomial(n=10, p=0.5, size=10000), hist=True, kde=False)\n",
    "plt.show()"
   ]
  },
  {
   "cell_type": "markdown",
   "metadata": {},
   "source": [
    "Binomial Distribution can appear to be similar to a Normal Distribution. "
   ]
  },
  {
   "cell_type": "code",
   "execution_count": 40,
   "metadata": {},
   "outputs": [
    {
     "data": {
      "image/png": "[encoded data removed]",
      "text/plain": [
       "<Figure size 432x288 with 1 Axes>"
      ]
     },
     "metadata": {
      "needs_background": "light"
     },
     "output_type": "display_data"
    }
   ],
   "source": [
    "# Here we are looking for both a normal distribution and a binomial distribution \n",
    "# to appear on the same distplot\n",
    "# with the paramters of each set to show how similar tehy can appear\n",
    "\n",
    "sns.distplot(np.random.normal(loc=50, scale=5, size=1000), hist=False, kde=True, label='normal')\n",
    "sns.distplot(np.random.binomial(n=100, p=0.5, size=1000), hist=False, kde=True, label='binomial')\n",
    "\n",
    "plt.show()"
   ]
  },
  {
   "cell_type": "markdown",
   "metadata": {},
   "source": [
    "However, where normal distribution is continuous binomial distribution is discrete/binary. This is blurred by the above visualisation.\n",
    "\n",
    "If we scale this down the difference is more pronounced."
   ]
  },
  {
   "cell_type": "code",
   "execution_count": 17,
   "metadata": {},
   "outputs": [
    {
     "data": {
      "image/png": "[encoded data removed]",
      "text/plain": [
       "<Figure size 432x288 with 1 Axes>"
      ]
     },
     "metadata": {
      "needs_background": "light"
     },
     "output_type": "display_data"
    }
   ],
   "source": [
    "# Here we are looking for a binomial distribution with 10 trials and probability 0.5 each trial\n",
    "# presented as a discrete plot of binomial distribution\n",
    "\n",
    "sns.distplot(np.random.binomial(n=10, p=0.5, size=50), hist=True, kde=False)\n",
    "plt.show()"
   ]
  },
  {
   "cell_type": "markdown",
   "metadata": {},
   "source": [
    "It is worth noting that while the probability of success and failure is the same for all trials the probability of each outcome does not need to be equally likely. In Binomial distributions each trial is independent. As such, the outcome of previous trials does not influence the outcome of the current trial."
   ]
  },
  {
   "cell_type": "code",
   "execution_count": 44,
   "metadata": {},
   "outputs": [
    {
     "data": {
      "image/png": "[encoded data removed]",
      "text/plain": [
       "<Figure size 432x288 with 1 Axes>"
      ]
     },
     "metadata": {
      "needs_background": "light"
     },
     "output_type": "display_data"
    }
   ],
   "source": [
    "Bino_2 = np.random.binomial(100, .25, 100)# A binomial distribution with 10 trials and probability 0.25 for each trial.\n",
    "Bino_3 = np.random.binomial(100, .5, 100) # A binomial distribution with 10 trials and probability 0.5 for each trial.\n",
    "Bino_4 = np.random.binomial(100, .99, 100) # A binomial distribution with 10 trials and probability 0.99 for each trial.\n",
    "\n",
    "# with the outputs of all 3 be presneted on a single stepfilled labelled histogram\n",
    "plt.hist(Bino_2, histtype='stepfilled', alpha=0.7, label='Probability: 25%')\n",
    "plt.hist(Bino_3, histtype='stepfilled', alpha=0.7, label='Probability: 50%')\n",
    "plt.hist(Bino_4, histtype='stepfilled', alpha=0.7, label='Probability: 90%')\n",
    "\n",
    "plt.legend(loc='best')\n",
    "plt.show()"
   ]
  },
  {
   "cell_type": "markdown",
   "metadata": {},
   "source": [
    "#### Poisson Distribution<a class=\"anchor\" id=\"poisson\"></a>\n",
    "\n",
    "Simialrly to Binomial Distributions, the Poisson Distrubtion is a discrte distribution.\n",
    "\n",
    "It examines the probability of an event occurring, be that at all or how often, within a given period of time. \n",
    "The event can happen at any point of time or space within the defined period but the distribution only models the number of occurrences.\n",
    "\n",
    "Poisson distributions are characterised by certain assumptions\n",
    "- There is no limit to the number of times an event can occur, within the defined period\n",
    "- Each event is independent of the other events (similar to trials in Binomial Distributions)\n",
    "- Events cannot occur simultaneously\n",
    "- The rate of event occurrence is, by in large, constant. Though this may vary depending on the length of the defined period.\n",
    "\n",
    "Poisson Distributions have 2 parameters\n",
    "\n",
    "`np.random.Poisson(lam= , size= )`\n",
    "* `lam`- The rate or the number of known occurrences of an event within a given period of time\n",
    "* `size`- The size of the returned array"
   ]
  },
  {
   "cell_type": "code",
   "execution_count": 45,
   "metadata": {},
   "outputs": [
    {
     "name": "stdout",
     "output_type": "stream",
     "text": [
      "[5 2 4 2 4 6 2 2 5 2 1 3 4 2 2 9 3 3 4 3 4 3 5 2 2 2 5 2 2 3 5 0 4 4 1 2 5\n",
      " 2 5 6 3 3 4 1 1 2 2 3 3 2 5 3 5 5 6 0 4 4 1 4 2 4 3 7 2 1 3 3 2 2 3 5 2 2\n",
      " 2 3 7 2 4 0 4 3 5 7 6 2 3 1 1 2 3 4 3 2 2 5 3 2 4 1]\n"
     ]
    }
   ],
   "source": [
    "# Here we are looking for the number of times an event will occur at a rate of 3 per unit of time\n",
    "# in 100 instances\n",
    "\n",
    "Pois_1 = np.random.poisson(3, 100) \n",
    "\n",
    "print (Pois_1)"
   ]
  },
  {
   "cell_type": "code",
   "execution_count": 47,
   "metadata": {},
   "outputs": [
    {
     "data": {
      "image/png": "[encoded data removed]",
      "text/plain": [
       "<Figure size 432x288 with 1 Axes>"
      ]
     },
     "metadata": {
      "needs_background": "light"
     },
     "output_type": "display_data"
    }
   ],
   "source": [
    "# Here we are looking to visualise the probabale number of times an event will occur \n",
    "# in 1000 instances, at a rate of 3 occurances per unit of time \n",
    "\n",
    "sns.distplot(np.random.poisson(3, 10000), hist=True, kde=False)\n",
    "                   \n",
    "plt.show()"
   ]
  },
  {
   "cell_type": "markdown",
   "metadata": {},
   "source": [
    "We can see that the probability peaks at 3\n",
    "\n",
    "As with Binomial Distributions, large scale Poisson Distributions can appear to be similar to Normal Distributions depending on the set mean and standard deviation."
   ]
  },
  {
   "cell_type": "code",
   "execution_count": 48,
   "metadata": {},
   "outputs": [
    {
     "data": {
      "image/png": "[encoded data removed]",
      "text/plain": [
       "<Figure size 432x288 with 1 Axes>"
      ]
     },
     "metadata": {
      "needs_background": "light"
     },
     "output_type": "display_data"
    }
   ],
   "source": [
    "# Here we are looking for the outputs of both a normal distribution and a poisson distribution \n",
    "# to appear on the same distplot\n",
    "# with the paramters of each set to show how similar tehy can appear\n",
    "\n",
    "sns.distplot(np.random.normal(loc=50, scale=8, size=1000), hist=False, kde=True, label='normal')\n",
    "sns.distplot(np.random.poisson(lam=50, size=1000), hist=False, kde=True, label='poisson')\n",
    "\n",
    "plt.show()"
   ]
  },
  {
   "cell_type": "markdown",
   "metadata": {},
   "source": [
    "While Binomial and Poisson Distributions are both discrete distribution, Binomial distributions are based on discreet events whereas Poisson distributions are based on continuous events. In Binomial distributions, the number of events (attempts) is set. Poisson Distributions has a finite number of attempts within the set period.\n",
    "\n",
    "That being said, a very large Binomial Distribution with a very low probability of success would resemble a Poisson Distribution when visualised."
   ]
  },
  {
   "cell_type": "code",
   "execution_count": 49,
   "metadata": {
    "scrolled": true
   },
   "outputs": [
    {
     "data": {
      "image/png": "[encoded data removed]",
      "text/plain": [
       "<Figure size 432x288 with 1 Axes>"
      ]
     },
     "metadata": {
      "needs_background": "light"
     },
     "output_type": "display_data"
    }
   ],
   "source": [
    "# Here we are looking for the outputs of both a binomial distribution and a poisson distribution \n",
    "# to appear on the same distplot\n",
    "# with the paramters of each set to show how similar tehy can appear\n",
    "\n",
    "sns.distplot(np.random.binomial(n=10000, p=0.01, size=1000), hist=False, kde=True, label='binomial')\n",
    "sns.distplot(np.random.poisson(lam=100, size=1000), hist=False, kde=True, label='poisson')\n",
    "\n",
    "plt.show()"
   ]
  },
  {
   "cell_type": "markdown",
   "metadata": {},
   "source": [
    "#### Uniform Distribution<a class=\"anchor\" id=\"uniform\"></a>\n",
    "\n",
    "In Uniform Distributions, every event has an equal probability of occurring. This is referred to as \"constant probability\".\n",
    "Though the random selection of event occurrences means that the uniformity of distribution is more defined at a larger scale. \n",
    "\n",
    "Uniform Distributions have three parameters\n",
    "\n",
    "`uniform (low=0.0, high=1.0, size=None)`\n",
    "\n",
    "* `low`- The lowest/minimum value to be included in the distribution\n",
    " * Floats and array-like floats are accepted for `low`\n",
    " * The default value is 0\n",
    "* `high`- The largest value/maximum to be included in the distribution\n",
    " * Floats and array-like floats are accepted for `high`\n",
    " * The default value is 1.0\n",
    "* `size`- The size of the returned array\n",
    " * The `size` parameter is optional. It accepts integers and tuples of integers"
   ]
  },
  {
   "cell_type": "code",
   "execution_count": 24,
   "metadata": {},
   "outputs": [
    {
     "name": "stdout",
     "output_type": "stream",
     "text": [
      "[4.01870643 2.8906568  4.31010764 0.05167284 2.49965366 0.2904421\n",
      " 0.74737591 3.7788862  3.09784059 3.83746544]\n"
     ]
    }
   ],
   "source": [
    "Unif_1 = np.random.uniform(-1,5,10) # Generate a sample array of random data \n",
    "                                    # within the range -1 to 5 with 10 elements\n",
    "print (Unif_1)"
   ]
  },
  {
   "cell_type": "code",
   "execution_count": 51,
   "metadata": {
    "scrolled": true
   },
   "outputs": [
    {
     "data": {
      "image/png": "[encoded data removed]",
      "text/plain": [
       "<Figure size 432x288 with 1 Axes>"
      ]
     },
     "metadata": {
      "needs_background": "light"
     },
     "output_type": "display_data"
    }
   ],
   "source": [
    "# Generate a sample array of random data \n",
    "# within the range -1 to 0 with 10 elements\n",
    "# and presenting the output as a histogram with a line to show frequency distribution\n",
    "\n",
    "Unif_2 = np.random.uniform(-1, 0, 10000)\n",
    "count, bins, ignored = plt.hist(Unif_2, 15, density=True)\n",
    "plt.plot(bins, np.ones_like(bins), linewidth=4, color='r')\n",
    "plt.show()"
   ]
  },
  {
   "cell_type": "markdown",
   "metadata": {},
   "source": [
    "As the probability of each number being generated is equal the distribution maintains a nearly constant height - highlighted here by the red line.\n",
    "\n",
    "In this was Uniform Distributions differ from Normal, Binomial and Poisson Distributions.\n",
    "Probability within the Uniform Distribution is equal for all events. Whereas in Normal Distribution they are distributed based on the mean and standard deviation, in Binomial Distributions distribution is based on the number of occurrence of an event within a finite number, which can vary, and Poisson Distributions can have any number of events."
   ]
  },
  {
   "cell_type": "markdown",
   "metadata": {},
   "source": [
    "#### Triangular Distribution<a class=\"anchor\" id=\"triangular\"></a>\n",
    "\n",
    "Triangular Distributions present a random number from a weighted range. It distributes events between the maximum and minimum values provided and based on a third value that indicates what the most likely outcome will be. \n",
    "\n",
    "`np.random.triangular(left, mode, right, size=None)`\n",
    "\n",
    "* `left` - This is the lower limit\n",
    " * Floats and array-like floats are accepted for `left`\n",
    "* `mode` - This is the event that occurs most often within the range\n",
    " * Floats and array-like floats are accepted for `mode`\n",
    " * `mode` must greater than or equal to `left` and less than or equal to `right`\n",
    "* `right` - This is the upper limit\n",
    " * Floats and array-like floats are accepted for `right`\n",
    " * `right` must be greater than `left`\n",
    "* `size` - The size of the returned array\n",
    "  *The size parameter is optional. It accepts integers and tuples of integers"
   ]
  },
  {
   "cell_type": "code",
   "execution_count": 3,
   "metadata": {},
   "outputs": [
    {
     "name": "stdout",
     "output_type": "stream",
     "text": [
      "17.307275023160756\n"
     ]
    }
   ],
   "source": [
    "# Here we are looking for a random array with a lower limit of 10 an upper limit of 100\n",
    "# and 50 being the number taht appears most frequently\n",
    "\n",
    "Tria_1 = np.random.triangular(10, 50, 100) \n",
    "print (Tria_1)"
   ]
  },
  {
   "cell_type": "code",
   "execution_count": 18,
   "metadata": {},
   "outputs": [
    {
     "data": {
      "image/png": "[encoded data removed]",
      "text/plain": [
       "<Figure size 432x288 with 1 Axes>"
      ]
     },
     "metadata": {
      "needs_background": "light"
     },
     "output_type": "display_data"
    }
   ],
   "source": [
    "# Here we are looking for a random array with a lower limit of 10 an upper limit of 100\n",
    "# and 50 being the number taht appears most frequently, in 100000 instances\n",
    "# and for the out to be presented on a triangualar distribution plot\n",
    "\n",
    "sns.distplot(np.random.triangular(1, 50, 1000, 100000), hist=True, kde=False)\n",
    "\n",
    "plt.show()"
   ]
  },
  {
   "cell_type": "code",
   "execution_count": null,
   "metadata": {},
   "outputs": [],
   "source": []
  }
 ],
 "metadata": {
  "kernelspec": {
   "display_name": "Python 3",
   "language": "python",
   "name": "python3"
  },
  "language_info": {
   "codemirror_mode": {
    "name": "ipython",
    "version": 3
   },
   "file_extension": ".py",
   "mimetype": "text/x-python",
   "name": "python",
   "nbconvert_exporter": "python",
   "pygments_lexer": "ipython3",
   "version": "3.8.3"
  }
 },
 "nbformat": 4,
 "nbformat_minor": 4
}
